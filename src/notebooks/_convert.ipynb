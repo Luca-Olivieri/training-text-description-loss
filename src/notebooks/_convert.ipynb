{
 "cells": [
  {
   "cell_type": "code",
   "execution_count": 7,
   "id": "159baacc",
   "metadata": {},
   "outputs": [
    {
     "name": "stdout",
     "output_type": "stream",
     "text": [
      "The autoreload extension is already loaded. To reload it, use:\n",
      "  %reload_ext autoreload\n"
     ]
    }
   ],
   "source": [
    "import sys\n",
    "from pathlib import Path\n",
    "\n",
    "%load_ext autoreload\n",
    "%autoreload 2\n",
    "\n",
    "root_path = Path(\"/home/olivieri/exp\").resolve()\n",
    "src_path = root_path / \"src\"\n",
    "sys.path.append(f\"{str(src_path)}\")"
   ]
  },
  {
   "cell_type": "code",
   "execution_count": 91,
   "id": "63b2bc53",
   "metadata": {},
   "outputs": [],
   "source": [
    "import json\n",
    "from glob import glob\n",
    "import os\n",
    "\n",
    "from data import *"
   ]
  },
  {
   "cell_type": "code",
   "execution_count": 9,
   "id": "afda8501",
   "metadata": {},
   "outputs": [],
   "source": [
    "def _read_one_jsonl_line(line):\n",
    "    obj = json.loads(line)\n",
    "    return obj\n",
    "\n",
    "def read_many_from_jsonl(path):\n",
    "    with open(path, 'r') as file:\n",
    "        data = list(map(lambda l: _read_one_jsonl_line(l), file))\n",
    "    return data\n",
    "\n",
    "def _append_one_to_jsonl(object_to_append, file):\n",
    "    json.dump(object_to_append, file)\n",
    "    file.write('\\n') # ensure to write a newline after each JSONL object\n",
    "\n",
    "def append_many_to_jsonl(path, objects_to_append):\n",
    "    with open(path, 'a') as file:\n",
    "        list(map(lambda obj: _append_one_to_jsonl(obj, file), objects_to_append))"
   ]
  },
  {
   "cell_type": "code",
   "execution_count": 30,
   "id": "22e85233",
   "metadata": {},
   "outputs": [],
   "source": [
    "def convert_to_jsonl(objs):\n",
    "    l = [{\"state\": None}]\n",
    "    for img_idx, value in enumerate(objs[\"content\"].values()):\n",
    "        d = {}\n",
    "        d[\"img_idx\"] = int(img_idx)\n",
    "        d[\"content\"] = value\n",
    "        l.append(d)\n",
    "    return l"
   ]
  },
  {
   "cell_type": "code",
   "execution_count": 106,
   "id": "406ffebf",
   "metadata": {},
   "outputs": [],
   "source": [
    "root_path = \"/home/olivieri/exp/benchmarks/2025-03-31/cmap_as_img/figsize_6_12_narrower\"\n",
    "paths  = glob(root_path + \"/*.json\")\n",
    "new_filenames = [os.path.splitext(os.path.basename(p))[0] for p in paths]"
   ]
  },
  {
   "cell_type": "code",
   "execution_count": 107,
   "id": "79c299b9",
   "metadata": {},
   "outputs": [
    {
     "name": "stdout",
     "output_type": "stream",
     "text": [
      "{'pred': 'correct', 'score': 4, 'reason': 'The predicted answer captures the main inaccuracies: the inaccurate AEROPLANE segmentation and the hallucinated PERSON patch. It misses some details, but the core issues are identified.'}\n",
      "{'pred': 'incorrect', 'score': 2, 'reason': 'The predicted answer only partially captures the inaccuracies described in the ground truth. It mentions the inaccurate AEROPLANE mask and a hallucinated PERSON patch, but misses key details like the incomplete/irregular shape of the main AEROPLANE and the completely missed AEROPLANE on the right. Also, the location of the hallucinated person patch is not accurate.'}\n",
      "{'pred': 'correct', 'score': 4, 'reason': 'The predicted answer correctly identifies the incompleteness of the main AEROPLANE and the missing AEROPLANE on the right, although it misses the irregular shape and hallucinated PERSON patch. It captures the most important aspects of the discrepancies.'}\n",
      "{'pred': 'correct', 'score': 4, 'reason': 'The predicted answer captures the main inaccuracies of the predicted segmentation mask, although it misses some details mentioned in the ground truth. Specifically, it identifies the inaccurate segmentation of the main aeroplane and the missing portion of the aeroplane on the right. It does not mention the hallucinated person patch or the irregular shape of the main aeroplane segmentation.'}\n",
      "{'pred': 'incorrect', 'score': 2, 'reason': 'The predicted answer only partially captures the inaccuracies described in the ground truth. It mentions the inaccurate AEROPLANE mask and a hallucinated PERSON patch, but misses key details like the incomplete/irregular shape of the main AEROPLANE and the completely missed AEROPLANE on the right. Also, the location of the hallucinated person patch is not accurate.'}\n",
      "{'pred': 'incorrect', 'score': 2, 'reason': 'The predicted answer only partially captures the inaccuracies present in the predicted segmentation. It mentions the inaccurate AEROPLANE mask and a hallucinated CHAIR patch, but misses other key issues like the completely missed AEROPLANE on the right and the hallucinated PERSON patch. The hallucinated object is also misidentified (CHAIR instead of PERSON).'}\n",
      "{'pred': 'correct', 'score': 4, 'reason': 'The predicted answer captures the main inaccuracies: the inaccurate AEROPLANE segmentation and the hallucinated PERSON patch. It misses the AEROPLANE on the right, but the main points are covered.'}\n",
      "{'pred': 'correct', 'score': 4, 'reason': 'The predicted answer correctly identifies the missing AEROPLANE, the incomplete shape of the main AEROPLANE, and the coarse boundaries. It also notes a hallucinated patch, although it identifies it as BACKGROUND instead of PERSON, and the location is slightly off. Overall, it captures the key issues.'}\n",
      "{'pred': 'incorrect', 'score': 2, 'reason': 'The predicted answer only partially captures the inaccuracies described in the ground truth. It mentions the inaccurate AEROPLANE mask and a hallucinated PERSON patch, but misses key details like the incomplete/irregular shape of the main AEROPLANE and the completely missed AEROPLANE on the right. Also, the location of the hallucinated person patch is not accurate.'}\n",
      "{'pred': 'correct', 'score': 4, 'reason': 'The predicted answer captures the main inaccuracies: the inaccurate AEROPLANE segmentation and the hallucinated PERSON patch. It misses the AEROPLANE on the right, but the main issues are addressed.'}\n",
      "{'pred': 'correct', 'score': 4, 'reason': 'The predicted answer captures the main inaccuracies: the inaccurate AEROPLANE segmentation and the hallucinated PERSON patch. It misses the AEROPLANE on the right, but the main issues are addressed.'}\n"
     ]
    }
   ],
   "source": [
    "for i, p in enumerate(paths):\n",
    "\n",
    "    with open(p, 'r') as file:\n",
    "        j = json.load(file)\n",
    "\n",
    "    conv_objs = convert_to_jsonl(j)\n",
    "\n",
    "    append_many_to_jsonl(f\"{root_path}/{new_filenames[i]}.jsonl\", conv_objs)\n",
    "    print(read_many_from_jsonl(f\"{root_path}/{new_filenames[i]}.jsonl\")[1][\"content\"])"
   ]
  },
  {
   "cell_type": "code",
   "execution_count": null,
   "id": "44a71035",
   "metadata": {},
   "outputs": [],
   "source": []
  },
  {
   "cell_type": "code",
   "execution_count": null,
   "id": "d2d7e407",
   "metadata": {},
   "outputs": [
    {
     "name": "stdout",
     "output_type": "stream",
     "text": [
      "{'pred': 'correct', 'score': 3, 'reason': \"The predicted answer captures some of the inaccuracies in the segmentation, specifically mentioning incomplete masks for AEROPLANE and PERSON regions. However, it misses several other key issues detailed in the ground truth, such as the imprecise shape of the AEROPLANE, the erroneous AEROPLANE patch, and the missed AEROPLANE region. Therefore, it's partially correct but incomplete.\"}\n"
     ]
    }
   ],
   "source": []
  },
  {
   "cell_type": "code",
   "execution_count": null,
   "id": "31d9026d",
   "metadata": {},
   "outputs": [],
   "source": []
  }
 ],
 "metadata": {
  "kernelspec": {
   "display_name": "base",
   "language": "python",
   "name": "python3"
  },
  "language_info": {
   "codemirror_mode": {
    "name": "ipython",
    "version": 3
   },
   "file_extension": ".py",
   "mimetype": "text/x-python",
   "name": "python",
   "nbconvert_exporter": "python",
   "pygments_lexer": "ipython3",
   "version": "3.11.11"
  }
 },
 "nbformat": 4,
 "nbformat_minor": 5
}
