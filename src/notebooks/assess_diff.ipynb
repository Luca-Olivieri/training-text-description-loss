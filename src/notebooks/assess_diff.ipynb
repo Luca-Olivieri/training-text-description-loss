{
 "cells": [
  {
   "cell_type": "markdown",
   "metadata": {},
   "source": [
    "# Setup"
   ]
  },
  {
   "cell_type": "code",
   "execution_count": 1,
   "metadata": {},
   "outputs": [],
   "source": [
    "import sys\n",
    "from pathlib import Path\n",
    "\n",
    "%load_ext autoreload\n",
    "%autoreload 2\n",
    "\n",
    "root_path = Path(\"/home/olivieri/exp\").resolve()\n",
    "src_path = root_path / \"src\"\n",
    "sys.path.append(f\"{str(src_path)}\")"
   ]
  },
  {
   "cell_type": "code",
   "execution_count": null,
   "metadata": {},
   "outputs": [],
   "source": [
    "import pandas as pd\n",
    "from glob import glob\n",
    "import os\n",
    "\n",
    "from prompter import *\n",
    "from data import *"
   ]
  },
  {
   "cell_type": "code",
   "execution_count": 3,
   "metadata": {},
   "outputs": [],
   "source": [
    "# Setting\n",
    "BY_MODEL = \"LRASPP_MobileNet_V3\"\n",
    "IMAGE_RESIZING_MODE = \"letterboxed\"\n",
    "OUTPUT_MODE = \"points\""
   ]
  },
  {
   "cell_type": "code",
   "execution_count": 4,
   "metadata": {},
   "outputs": [
    {
     "data": {
      "text/plain": [
       "['cmap_as_img', 'cmap_as_names', 'cmap_as_patches']"
      ]
     },
     "execution_count": 4,
     "metadata": {},
     "output_type": "execute_result"
    }
   ],
   "source": [
    "root_exp_path = get_selected_annots_path(BY_MODEL, IMAGE_RESIZING_MODE, OUTPUT_MODE) / \"eval_prs\" / \"test_color_maps\"\n",
    "\n",
    "exps_path = glob(f\"{root_exp_path}/*\")\n",
    "exps_names = [os.path.splitext(os.path.basename(path))[0] for path in exps_path]\n",
    "exps_names"
   ]
  },
  {
   "cell_type": "markdown",
   "metadata": {},
   "source": [
    "# Prompt Assessment"
   ]
  },
  {
   "cell_type": "code",
   "execution_count": 5,
   "metadata": {},
   "outputs": [],
   "source": [
    "df_mean_pred_prs = pd.DataFrame()\n",
    "df_mean_score_prs = pd.DataFrame() \n",
    "\n",
    "for exp_path, exp_name in zip(exps_path, exps_names):\n",
    "    \n",
    "    variation_paths = glob(f\"{exp_path}/*.jsonl\")\n",
    "    variations_names = [os.path.splitext(os.path.basename(path))[0] for path in variation_paths]\n",
    "\n",
    "    df_pred_prs = pd.DataFrame()\n",
    "    df_score_prs = pd.DataFrame() \n",
    "\n",
    "    for variation_name in variations_names:\n",
    "\n",
    "        # TODO: check if data points they have matching states\n",
    "        \n",
    "        eval_prs = get_many_eval_pr(BY_MODEL, IMAGE_RESIZING_MODE, OUTPUT_MODE, f\"test_color_maps/{exp_name}\", variation_name, return_state=False)\n",
    "\n",
    "        _df_all_prs = pd.DataFrame.from_dict(eval_prs, orient='index')\n",
    "        _df_pred_prs = _df_all_prs[\"pred\"].map(lambda x: x if x is None else x == \"correct\")\n",
    "        _df_score_prs = _df_all_prs[\"score\"]\n",
    "        _df_reason_prs = _df_all_prs[\"reason\"]\n",
    "\n",
    "        df_pred_prs = pd.concat([df_pred_prs, _df_pred_prs], axis=1)\n",
    "        df_score_prs = pd.concat([df_score_prs, _df_score_prs], axis=1)\n",
    "    \n",
    "    df_pred_prs.columns = variations_names\n",
    "    df_score_prs.columns = variations_names\n",
    "\n",
    "    df_mean_pred_prs = pd.concat([df_mean_pred_prs, df_pred_prs.mean(axis=0)], axis=1)\n",
    "    df_mean_score_prs = pd.concat([df_mean_score_prs, df_score_prs.mean(axis=0)], axis=1)\n",
    "\n",
    "df_mean_pred_prs.columns = exps_names\n",
    "df_mean_score_prs.columns = exps_names\n"
   ]
  },
  {
   "cell_type": "markdown",
   "metadata": {},
   "source": [
    "## Pred"
   ]
  },
  {
   "cell_type": "code",
   "execution_count": 6,
   "metadata": {},
   "outputs": [
    {
     "data": {
      "text/html": [
       "<div>\n",
       "<style scoped>\n",
       "    .dataframe tbody tr th:only-of-type {\n",
       "        vertical-align: middle;\n",
       "    }\n",
       "\n",
       "    .dataframe tbody tr th {\n",
       "        vertical-align: top;\n",
       "    }\n",
       "\n",
       "    .dataframe thead th {\n",
       "        text-align: right;\n",
       "    }\n",
       "</style>\n",
       "<table border=\"1\" class=\"dataframe\">\n",
       "  <thead>\n",
       "    <tr style=\"text-align: right;\">\n",
       "      <th></th>\n",
       "      <th>cmap_as_img</th>\n",
       "      <th>cmap_as_names</th>\n",
       "      <th>cmap_as_patches</th>\n",
       "    </tr>\n",
       "  </thead>\n",
       "  <tbody>\n",
       "    <tr>\n",
       "      <th>ConcatMasks_Sc_Hz</th>\n",
       "      <td>0.80</td>\n",
       "      <td>0.60</td>\n",
       "      <td>0.60</td>\n",
       "    </tr>\n",
       "    <tr>\n",
       "      <th>ConcatMasks_Sc_Vr</th>\n",
       "      <td>0.60</td>\n",
       "      <td>0.65</td>\n",
       "      <td>0.80</td>\n",
       "    </tr>\n",
       "    <tr>\n",
       "      <th>ConcatMasks_Ovr_Hz</th>\n",
       "      <td>0.50</td>\n",
       "      <td>0.45</td>\n",
       "      <td>0.75</td>\n",
       "    </tr>\n",
       "    <tr>\n",
       "      <th>ConcatMasks_Ovr_Vr</th>\n",
       "      <td>0.35</td>\n",
       "      <td>0.40</td>\n",
       "      <td>0.75</td>\n",
       "    </tr>\n",
       "    <tr>\n",
       "      <th>ConcatMasks_NoSc_Hz</th>\n",
       "      <td>0.50</td>\n",
       "      <td>0.40</td>\n",
       "      <td>0.30</td>\n",
       "    </tr>\n",
       "    <tr>\n",
       "      <th>ConcatMasks_NoSc_Vr</th>\n",
       "      <td>0.40</td>\n",
       "      <td>0.35</td>\n",
       "      <td>0.50</td>\n",
       "    </tr>\n",
       "    <tr>\n",
       "      <th>SepMasks_NoSc</th>\n",
       "      <td>0.65</td>\n",
       "      <td>0.60</td>\n",
       "      <td>0.65</td>\n",
       "    </tr>\n",
       "    <tr>\n",
       "      <th>SepMasks_Ovr</th>\n",
       "      <td>0.65</td>\n",
       "      <td>0.75</td>\n",
       "      <td>0.65</td>\n",
       "    </tr>\n",
       "    <tr>\n",
       "      <th>SepMasks_Sc</th>\n",
       "      <td>0.70</td>\n",
       "      <td>0.55</td>\n",
       "      <td>0.70</td>\n",
       "    </tr>\n",
       "    <tr>\n",
       "      <th>ArrayMasks_Imgs</th>\n",
       "      <td>0.75</td>\n",
       "      <td>0.65</td>\n",
       "      <td>0.50</td>\n",
       "    </tr>\n",
       "    <tr>\n",
       "      <th>ArrayMasks_Imgs_Ovr</th>\n",
       "      <td>0.60</td>\n",
       "      <td>0.65</td>\n",
       "      <td>0.70</td>\n",
       "    </tr>\n",
       "  </tbody>\n",
       "</table>\n",
       "</div>"
      ],
      "text/plain": [
       "                     cmap_as_img  cmap_as_names  cmap_as_patches\n",
       "ConcatMasks_Sc_Hz           0.80           0.60             0.60\n",
       "ConcatMasks_Sc_Vr           0.60           0.65             0.80\n",
       "ConcatMasks_Ovr_Hz          0.50           0.45             0.75\n",
       "ConcatMasks_Ovr_Vr          0.35           0.40             0.75\n",
       "ConcatMasks_NoSc_Hz         0.50           0.40             0.30\n",
       "ConcatMasks_NoSc_Vr         0.40           0.35             0.50\n",
       "SepMasks_NoSc               0.65           0.60             0.65\n",
       "SepMasks_Ovr                0.65           0.75             0.65\n",
       "SepMasks_Sc                 0.70           0.55             0.70\n",
       "ArrayMasks_Imgs             0.75           0.65             0.50\n",
       "ArrayMasks_Imgs_Ovr         0.60           0.65             0.70"
      ]
     },
     "execution_count": 6,
     "metadata": {},
     "output_type": "execute_result"
    }
   ],
   "source": [
    "df_mean_pred_prs"
   ]
  },
  {
   "cell_type": "code",
   "execution_count": 7,
   "metadata": {},
   "outputs": [
    {
     "data": {
      "text/html": [
       "<div>\n",
       "<style scoped>\n",
       "    .dataframe tbody tr th:only-of-type {\n",
       "        vertical-align: middle;\n",
       "    }\n",
       "\n",
       "    .dataframe tbody tr th {\n",
       "        vertical-align: top;\n",
       "    }\n",
       "\n",
       "    .dataframe thead th {\n",
       "        text-align: right;\n",
       "    }\n",
       "</style>\n",
       "<table border=\"1\" class=\"dataframe\">\n",
       "  <thead>\n",
       "    <tr style=\"text-align: right;\">\n",
       "      <th></th>\n",
       "      <th>cmap_as_img</th>\n",
       "      <th>cmap_as_names</th>\n",
       "      <th>cmap_as_patches</th>\n",
       "    </tr>\n",
       "  </thead>\n",
       "  <tbody>\n",
       "    <tr>\n",
       "      <th>mean</th>\n",
       "      <td>0.590909</td>\n",
       "      <td>0.550000</td>\n",
       "      <td>0.627273</td>\n",
       "    </tr>\n",
       "    <tr>\n",
       "      <th>std</th>\n",
       "      <td>0.141100</td>\n",
       "      <td>0.130384</td>\n",
       "      <td>0.145540</td>\n",
       "    </tr>\n",
       "    <tr>\n",
       "      <th>min</th>\n",
       "      <td>0.350000</td>\n",
       "      <td>0.350000</td>\n",
       "      <td>0.300000</td>\n",
       "    </tr>\n",
       "    <tr>\n",
       "      <th>max</th>\n",
       "      <td>0.800000</td>\n",
       "      <td>0.750000</td>\n",
       "      <td>0.800000</td>\n",
       "    </tr>\n",
       "  </tbody>\n",
       "</table>\n",
       "</div>"
      ],
      "text/plain": [
       "      cmap_as_img  cmap_as_names  cmap_as_patches\n",
       "mean     0.590909       0.550000         0.627273\n",
       "std      0.141100       0.130384         0.145540\n",
       "min      0.350000       0.350000         0.300000\n",
       "max      0.800000       0.750000         0.800000"
      ]
     },
     "execution_count": 7,
     "metadata": {},
     "output_type": "execute_result"
    }
   ],
   "source": [
    "df_mean_pred_prs.describe().iloc[[1, 2, 3, 7]]"
   ]
  },
  {
   "cell_type": "markdown",
   "metadata": {},
   "source": [
    "## Score"
   ]
  },
  {
   "cell_type": "code",
   "execution_count": 8,
   "metadata": {},
   "outputs": [
    {
     "data": {
      "text/html": [
       "<div>\n",
       "<style scoped>\n",
       "    .dataframe tbody tr th:only-of-type {\n",
       "        vertical-align: middle;\n",
       "    }\n",
       "\n",
       "    .dataframe tbody tr th {\n",
       "        vertical-align: top;\n",
       "    }\n",
       "\n",
       "    .dataframe thead th {\n",
       "        text-align: right;\n",
       "    }\n",
       "</style>\n",
       "<table border=\"1\" class=\"dataframe\">\n",
       "  <thead>\n",
       "    <tr style=\"text-align: right;\">\n",
       "      <th></th>\n",
       "      <th>cmap_as_img</th>\n",
       "      <th>cmap_as_names</th>\n",
       "      <th>cmap_as_patches</th>\n",
       "    </tr>\n",
       "  </thead>\n",
       "  <tbody>\n",
       "    <tr>\n",
       "      <th>ConcatMasks_Sc_Hz</th>\n",
       "      <td>3.70</td>\n",
       "      <td>3.30</td>\n",
       "      <td>3.30</td>\n",
       "    </tr>\n",
       "    <tr>\n",
       "      <th>ConcatMasks_Sc_Vr</th>\n",
       "      <td>3.20</td>\n",
       "      <td>3.45</td>\n",
       "      <td>3.75</td>\n",
       "    </tr>\n",
       "    <tr>\n",
       "      <th>ConcatMasks_Ovr_Hz</th>\n",
       "      <td>2.85</td>\n",
       "      <td>2.65</td>\n",
       "      <td>3.60</td>\n",
       "    </tr>\n",
       "    <tr>\n",
       "      <th>ConcatMasks_Ovr_Vr</th>\n",
       "      <td>2.50</td>\n",
       "      <td>2.45</td>\n",
       "      <td>3.60</td>\n",
       "    </tr>\n",
       "    <tr>\n",
       "      <th>ConcatMasks_NoSc_Hz</th>\n",
       "      <td>2.75</td>\n",
       "      <td>2.10</td>\n",
       "      <td>2.35</td>\n",
       "    </tr>\n",
       "    <tr>\n",
       "      <th>ConcatMasks_NoSc_Vr</th>\n",
       "      <td>2.25</td>\n",
       "      <td>2.15</td>\n",
       "      <td>2.60</td>\n",
       "    </tr>\n",
       "    <tr>\n",
       "      <th>SepMasks_NoSc</th>\n",
       "      <td>3.40</td>\n",
       "      <td>3.05</td>\n",
       "      <td>3.25</td>\n",
       "    </tr>\n",
       "    <tr>\n",
       "      <th>SepMasks_Ovr</th>\n",
       "      <td>3.45</td>\n",
       "      <td>3.60</td>\n",
       "      <td>3.45</td>\n",
       "    </tr>\n",
       "    <tr>\n",
       "      <th>SepMasks_Sc</th>\n",
       "      <td>3.35</td>\n",
       "      <td>3.10</td>\n",
       "      <td>3.45</td>\n",
       "    </tr>\n",
       "    <tr>\n",
       "      <th>ArrayMasks_Imgs</th>\n",
       "      <td>3.60</td>\n",
       "      <td>3.25</td>\n",
       "      <td>3.10</td>\n",
       "    </tr>\n",
       "    <tr>\n",
       "      <th>ArrayMasks_Imgs_Ovr</th>\n",
       "      <td>3.25</td>\n",
       "      <td>3.40</td>\n",
       "      <td>3.50</td>\n",
       "    </tr>\n",
       "  </tbody>\n",
       "</table>\n",
       "</div>"
      ],
      "text/plain": [
       "                     cmap_as_img  cmap_as_names  cmap_as_patches\n",
       "ConcatMasks_Sc_Hz           3.70           3.30             3.30\n",
       "ConcatMasks_Sc_Vr           3.20           3.45             3.75\n",
       "ConcatMasks_Ovr_Hz          2.85           2.65             3.60\n",
       "ConcatMasks_Ovr_Vr          2.50           2.45             3.60\n",
       "ConcatMasks_NoSc_Hz         2.75           2.10             2.35\n",
       "ConcatMasks_NoSc_Vr         2.25           2.15             2.60\n",
       "SepMasks_NoSc               3.40           3.05             3.25\n",
       "SepMasks_Ovr                3.45           3.60             3.45\n",
       "SepMasks_Sc                 3.35           3.10             3.45\n",
       "ArrayMasks_Imgs             3.60           3.25             3.10\n",
       "ArrayMasks_Imgs_Ovr         3.25           3.40             3.50"
      ]
     },
     "execution_count": 8,
     "metadata": {},
     "output_type": "execute_result"
    }
   ],
   "source": [
    "df_mean_score_prs"
   ]
  },
  {
   "cell_type": "code",
   "execution_count": 9,
   "metadata": {},
   "outputs": [
    {
     "data": {
      "text/html": [
       "<div>\n",
       "<style scoped>\n",
       "    .dataframe tbody tr th:only-of-type {\n",
       "        vertical-align: middle;\n",
       "    }\n",
       "\n",
       "    .dataframe tbody tr th {\n",
       "        vertical-align: top;\n",
       "    }\n",
       "\n",
       "    .dataframe thead th {\n",
       "        text-align: right;\n",
       "    }\n",
       "</style>\n",
       "<table border=\"1\" class=\"dataframe\">\n",
       "  <thead>\n",
       "    <tr style=\"text-align: right;\">\n",
       "      <th></th>\n",
       "      <th>cmap_as_img</th>\n",
       "      <th>cmap_as_names</th>\n",
       "      <th>cmap_as_patches</th>\n",
       "    </tr>\n",
       "  </thead>\n",
       "  <tbody>\n",
       "    <tr>\n",
       "      <th>mean</th>\n",
       "      <td>3.118182</td>\n",
       "      <td>2.954545</td>\n",
       "      <td>3.268182</td>\n",
       "    </tr>\n",
       "    <tr>\n",
       "      <th>std</th>\n",
       "      <td>0.467051</td>\n",
       "      <td>0.531251</td>\n",
       "      <td>0.434898</td>\n",
       "    </tr>\n",
       "    <tr>\n",
       "      <th>min</th>\n",
       "      <td>2.250000</td>\n",
       "      <td>2.100000</td>\n",
       "      <td>2.350000</td>\n",
       "    </tr>\n",
       "    <tr>\n",
       "      <th>max</th>\n",
       "      <td>3.700000</td>\n",
       "      <td>3.600000</td>\n",
       "      <td>3.750000</td>\n",
       "    </tr>\n",
       "  </tbody>\n",
       "</table>\n",
       "</div>"
      ],
      "text/plain": [
       "      cmap_as_img  cmap_as_names  cmap_as_patches\n",
       "mean     3.118182       2.954545         3.268182\n",
       "std      0.467051       0.531251         0.434898\n",
       "min      2.250000       2.100000         2.350000\n",
       "max      3.700000       3.600000         3.750000"
      ]
     },
     "execution_count": 9,
     "metadata": {},
     "output_type": "execute_result"
    }
   ],
   "source": [
    "df_mean_score_prs.describe().iloc[[1, 2, 3, 7]]"
   ]
  }
 ],
 "metadata": {
  "colab": {
   "provenance": [
    {
     "file_id": "/v2/external/notebooks/empty.ipynb",
     "timestamp": 1742717556086
    }
   ]
  },
  "kernelspec": {
   "display_name": "base",
   "language": "python",
   "name": "python3"
  },
  "language_info": {
   "codemirror_mode": {
    "name": "ipython",
    "version": 3
   },
   "file_extension": ".py",
   "mimetype": "text/x-python",
   "name": "python",
   "nbconvert_exporter": "python",
   "pygments_lexer": "ipython3",
   "version": "3.11.11"
  }
 },
 "nbformat": 4,
 "nbformat_minor": 0
}
