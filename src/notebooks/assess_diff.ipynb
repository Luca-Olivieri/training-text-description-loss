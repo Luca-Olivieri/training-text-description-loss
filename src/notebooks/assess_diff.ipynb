{
 "cells": [
  {
   "cell_type": "markdown",
   "metadata": {},
   "source": [
    "# Setup"
   ]
  },
  {
   "cell_type": "code",
   "execution_count": 2,
   "metadata": {},
   "outputs": [],
   "source": [
    "import sys\n",
    "from pathlib import Path\n",
    "\n",
    "%load_ext autoreload\n",
    "%autoreload 2\n",
    "\n",
    "root_path = Path(\"/home/olivieri/exp\").resolve()\n",
    "src_path = root_path / \"src\"\n",
    "sys.path.append(f\"{str(src_path)}\")"
   ]
  },
  {
   "cell_type": "code",
   "execution_count": 3,
   "metadata": {},
   "outputs": [],
   "source": [
    "import pandas as pd\n",
    "from glob import glob\n",
    "import os\n",
    "\n",
    "from prompter import *\n",
    "from data import *"
   ]
  },
  {
   "cell_type": "code",
   "execution_count": null,
   "metadata": {},
   "outputs": [],
   "source": [
    "# Setting\n",
    "BY_MODEL = \"LRASPP_MobileNet_V3\"\n",
    "SPLIT_BY = \"non-splitted\""
   ]
  },
  {
   "cell_type": "code",
   "execution_count": 5,
   "metadata": {},
   "outputs": [],
   "source": [
    "root_exp_name = \"test_resized\""
   ]
  },
  {
   "cell_type": "code",
   "execution_count": null,
   "metadata": {},
   "outputs": [
    {
     "data": {
      "text/plain": [
       "['cmap_as_names', 'cmap_as_patches', 'cmap_as_img', 'cmap_as_rgb']"
      ]
     },
     "execution_count": 6,
     "metadata": {},
     "output_type": "execute_result"
    }
   ],
   "source": [
    "root_exp_path = get_selected_annots_path(BY_MODEL, SPLIT_BY) / \"eval_prs\" / root_exp_name\n",
    "\n",
    "exps_path = glob(f\"{root_exp_path}/*\")\n",
    "exps_names = [os.path.splitext(os.path.basename(path))[0] for path in exps_path]\n",
    "exps_names"
   ]
  },
  {
   "cell_type": "code",
   "execution_count": 7,
   "metadata": {},
   "outputs": [
    {
     "data": {
      "text/plain": [
       "['/home/olivieri/exp/data/VOCdevkit/VOC2012/MyAnnotations/by_model/LRASPP_MobileNet_V3/resized/freeform/non-splitted/eval_prs/test_resized/cmap_as_names',\n",
       " '/home/olivieri/exp/data/VOCdevkit/VOC2012/MyAnnotations/by_model/LRASPP_MobileNet_V3/resized/freeform/non-splitted/eval_prs/test_resized/cmap_as_patches',\n",
       " '/home/olivieri/exp/data/VOCdevkit/VOC2012/MyAnnotations/by_model/LRASPP_MobileNet_V3/resized/freeform/non-splitted/eval_prs/test_resized/cmap_as_img',\n",
       " '/home/olivieri/exp/data/VOCdevkit/VOC2012/MyAnnotations/by_model/LRASPP_MobileNet_V3/resized/freeform/non-splitted/eval_prs/test_resized/cmap_as_rgb']"
      ]
     },
     "execution_count": 7,
     "metadata": {},
     "output_type": "execute_result"
    }
   ],
   "source": [
    "exps_path"
   ]
  },
  {
   "cell_type": "markdown",
   "metadata": {},
   "source": [
    "# Prompt Assessment"
   ]
  },
  {
   "cell_type": "code",
   "execution_count": null,
   "metadata": {},
   "outputs": [],
   "source": [
    "df_mean_pred_prs = pd.DataFrame()\n",
    "df_mean_score_prs = pd.DataFrame() \n",
    "\n",
    "for exp_path, exp_name in zip(exps_path, exps_names):\n",
    "    \n",
    "    variation_paths = glob(f\"{exp_path}/*.jsonl\")\n",
    "    variations_names = [os.path.splitext(os.path.basename(path))[0] for path in variation_paths]\n",
    "\n",
    "    df_pred_prs = pd.DataFrame()\n",
    "    df_score_prs = pd.DataFrame() \n",
    "\n",
    "    for variation_name in variations_names:\n",
    "        \n",
    "        eval_prs = get_many_eval_pr(BY_MODEL, SPLIT_BY, f\"{root_exp_name}/{exp_name}\", variation_name, return_state=False)\n",
    "\n",
    "        _df_all_prs = pd.DataFrame.from_dict(eval_prs, orient='index')\n",
    "        _df_pred_prs = _df_all_prs[\"pred\"].map(lambda x: x if x is None else int(x == \"correct\"))\n",
    "        _df_score_prs = _df_all_prs[\"score\"]\n",
    "        _df_reason_prs = _df_all_prs[\"reason\"]\n",
    "\n",
    "        df_pred_prs = pd.concat([df_pred_prs, _df_pred_prs], axis=1)\n",
    "        df_score_prs = pd.concat([df_score_prs, _df_score_prs], axis=1)\n",
    "    \n",
    "    df_pred_prs.columns = variations_names\n",
    "    df_score_prs.columns = variations_names\n",
    "\n",
    "    df_mean_pred_prs = pd.concat([df_mean_pred_prs, df_pred_prs.mean(axis=0)], axis=1)\n",
    "    df_mean_score_prs = pd.concat([df_mean_score_prs, df_score_prs.mean(axis=0)], axis=1)\n",
    "\n",
    "df_mean_pred_prs.columns = exps_names\n",
    "df_mean_score_prs.columns = exps_names\n"
   ]
  },
  {
   "cell_type": "markdown",
   "metadata": {},
   "source": [
    "## Pred"
   ]
  },
  {
   "cell_type": "code",
   "execution_count": 10,
   "metadata": {},
   "outputs": [
    {
     "data": {
      "text/html": [
       "<div>\n",
       "<style scoped>\n",
       "    .dataframe tbody tr th:only-of-type {\n",
       "        vertical-align: middle;\n",
       "    }\n",
       "\n",
       "    .dataframe tbody tr th {\n",
       "        vertical-align: top;\n",
       "    }\n",
       "\n",
       "    .dataframe thead th {\n",
       "        text-align: right;\n",
       "    }\n",
       "</style>\n",
       "<table border=\"1\" class=\"dataframe\">\n",
       "  <thead>\n",
       "    <tr style=\"text-align: right;\">\n",
       "      <th></th>\n",
       "      <th>cmap_as_patches</th>\n",
       "      <th>cmap_as_img</th>\n",
       "      <th>cmap_as_names</th>\n",
       "      <th>cmap_as_rgb</th>\n",
       "    </tr>\n",
       "  </thead>\n",
       "  <tbody>\n",
       "    <tr>\n",
       "      <th>mean</th>\n",
       "      <td>0.568182</td>\n",
       "      <td>0.554545</td>\n",
       "      <td>0.504545</td>\n",
       "      <td>0.518182</td>\n",
       "    </tr>\n",
       "    <tr>\n",
       "      <th>std</th>\n",
       "      <td>0.145384</td>\n",
       "      <td>0.180907</td>\n",
       "      <td>0.210303</td>\n",
       "      <td>0.242149</td>\n",
       "    </tr>\n",
       "    <tr>\n",
       "      <th>min</th>\n",
       "      <td>0.300000</td>\n",
       "      <td>0.200000</td>\n",
       "      <td>0.200000</td>\n",
       "      <td>0.150000</td>\n",
       "    </tr>\n",
       "    <tr>\n",
       "      <th>max</th>\n",
       "      <td>0.750000</td>\n",
       "      <td>0.750000</td>\n",
       "      <td>0.750000</td>\n",
       "      <td>0.850000</td>\n",
       "    </tr>\n",
       "  </tbody>\n",
       "</table>\n",
       "</div>"
      ],
      "text/plain": [
       "      cmap_as_patches  cmap_as_img  cmap_as_names  cmap_as_rgb\n",
       "mean         0.568182     0.554545       0.504545     0.518182\n",
       "std          0.145384     0.180907       0.210303     0.242149\n",
       "min          0.300000     0.200000       0.200000     0.150000\n",
       "max          0.750000     0.750000       0.750000     0.850000"
      ]
     },
     "metadata": {},
     "output_type": "display_data"
    },
    {
     "data": {
      "text/plain": [
       "mean    0.536364\n",
       "std     0.029922\n",
       "min     0.504545\n",
       "max     0.568182\n",
       "dtype: float64"
      ]
     },
     "metadata": {},
     "output_type": "display_data"
    }
   ],
   "source": [
    "display(df_mean_pred_prs[[\"cmap_as_patches\", \"cmap_as_img\", \"cmap_as_names\", \"cmap_as_rgb\"]].describe().iloc[[1, 2, 3, 7]])\n",
    "display(df_mean_pred_prs.mean().describe().iloc[[1, 2, 3, 7]])"
   ]
  },
  {
   "cell_type": "code",
   "execution_count": 9,
   "metadata": {},
   "outputs": [
    {
     "data": {
      "text/html": [
       "<div>\n",
       "<style scoped>\n",
       "    .dataframe tbody tr th:only-of-type {\n",
       "        vertical-align: middle;\n",
       "    }\n",
       "\n",
       "    .dataframe tbody tr th {\n",
       "        vertical-align: top;\n",
       "    }\n",
       "\n",
       "    .dataframe thead th {\n",
       "        text-align: right;\n",
       "    }\n",
       "</style>\n",
       "<table border=\"1\" class=\"dataframe\">\n",
       "  <thead>\n",
       "    <tr style=\"text-align: right;\">\n",
       "      <th></th>\n",
       "      <th>mean</th>\n",
       "      <th>std</th>\n",
       "      <th>min</th>\n",
       "      <th>max</th>\n",
       "    </tr>\n",
       "  </thead>\n",
       "  <tbody>\n",
       "    <tr>\n",
       "      <th>ArrayMasks_Imgs</th>\n",
       "      <td>0.75</td>\n",
       "      <td>0.444262</td>\n",
       "      <td>0.0</td>\n",
       "      <td>1.0</td>\n",
       "    </tr>\n",
       "    <tr>\n",
       "      <th>ArrayMasks_Imgs_Ovr</th>\n",
       "      <td>0.55</td>\n",
       "      <td>0.510418</td>\n",
       "      <td>0.0</td>\n",
       "      <td>1.0</td>\n",
       "    </tr>\n",
       "    <tr>\n",
       "      <th>ConcatMasks_NoSc_Hz</th>\n",
       "      <td>0.15</td>\n",
       "      <td>0.366348</td>\n",
       "      <td>0.0</td>\n",
       "      <td>1.0</td>\n",
       "    </tr>\n",
       "    <tr>\n",
       "      <th>ConcatMasks_NoSc_Vr</th>\n",
       "      <td>0.20</td>\n",
       "      <td>0.410391</td>\n",
       "      <td>0.0</td>\n",
       "      <td>1.0</td>\n",
       "    </tr>\n",
       "    <tr>\n",
       "      <th>ConcatMasks_Ovr_Hz</th>\n",
       "      <td>0.35</td>\n",
       "      <td>0.489360</td>\n",
       "      <td>0.0</td>\n",
       "      <td>1.0</td>\n",
       "    </tr>\n",
       "    <tr>\n",
       "      <th>ConcatMasks_Ovr_Vr</th>\n",
       "      <td>0.25</td>\n",
       "      <td>0.444262</td>\n",
       "      <td>0.0</td>\n",
       "      <td>1.0</td>\n",
       "    </tr>\n",
       "    <tr>\n",
       "      <th>ConcatMasks_Sc_Hz</th>\n",
       "      <td>0.60</td>\n",
       "      <td>0.502625</td>\n",
       "      <td>0.0</td>\n",
       "      <td>1.0</td>\n",
       "    </tr>\n",
       "    <tr>\n",
       "      <th>ConcatMasks_Sc_Vr</th>\n",
       "      <td>0.65</td>\n",
       "      <td>0.489360</td>\n",
       "      <td>0.0</td>\n",
       "      <td>1.0</td>\n",
       "    </tr>\n",
       "    <tr>\n",
       "      <th>SepMasks_NoSc</th>\n",
       "      <td>0.60</td>\n",
       "      <td>0.502625</td>\n",
       "      <td>0.0</td>\n",
       "      <td>1.0</td>\n",
       "    </tr>\n",
       "    <tr>\n",
       "      <th>SepMasks_Ovr</th>\n",
       "      <td>0.85</td>\n",
       "      <td>0.366348</td>\n",
       "      <td>0.0</td>\n",
       "      <td>1.0</td>\n",
       "    </tr>\n",
       "    <tr>\n",
       "      <th>SepMasks_Sc</th>\n",
       "      <td>0.75</td>\n",
       "      <td>0.444262</td>\n",
       "      <td>0.0</td>\n",
       "      <td>1.0</td>\n",
       "    </tr>\n",
       "  </tbody>\n",
       "</table>\n",
       "</div>"
      ],
      "text/plain": [
       "                     mean       std  min  max\n",
       "ArrayMasks_Imgs      0.75  0.444262  0.0  1.0\n",
       "ArrayMasks_Imgs_Ovr  0.55  0.510418  0.0  1.0\n",
       "ConcatMasks_NoSc_Hz  0.15  0.366348  0.0  1.0\n",
       "ConcatMasks_NoSc_Vr  0.20  0.410391  0.0  1.0\n",
       "ConcatMasks_Ovr_Hz   0.35  0.489360  0.0  1.0\n",
       "ConcatMasks_Ovr_Vr   0.25  0.444262  0.0  1.0\n",
       "ConcatMasks_Sc_Hz    0.60  0.502625  0.0  1.0\n",
       "ConcatMasks_Sc_Vr    0.65  0.489360  0.0  1.0\n",
       "SepMasks_NoSc        0.60  0.502625  0.0  1.0\n",
       "SepMasks_Ovr         0.85  0.366348  0.0  1.0\n",
       "SepMasks_Sc          0.75  0.444262  0.0  1.0"
      ]
     },
     "metadata": {},
     "output_type": "display_data"
    },
    {
     "data": {
      "image/png": "[encoded data removed]",
      "text/plain": [
       "<Figure size 640x480 with 1 Axes>"
      ]
     },
     "metadata": {},
     "output_type": "display_data"
    }
   ],
   "source": [
    "display(df_pred_prs.sort_index().describe().transpose().sort_index()[[\"mean\", \"std\", \"min\", \"max\"]])\n",
    "mean = df_pred_prs.transpose().sort_index().mean(axis=1)\n",
    "std = df_pred_prs.transpose().sort_index().std(axis=1)\n",
    "plt.bar(mean.index, mean, yerr=std, capsize=5, alpha=0.9)\n",
    "plt.ylim(bottom=0)\n",
    "plt.xticks(rotation=90)\n",
    "plt.show()"
   ]
  },
  {
   "cell_type": "markdown",
   "metadata": {},
   "source": [
    "## Score"
   ]
  },
  {
   "cell_type": "code",
   "execution_count": 11,
   "metadata": {},
   "outputs": [
    {
     "data": {
      "text/html": [
       "<div>\n",
       "<style scoped>\n",
       "    .dataframe tbody tr th:only-of-type {\n",
       "        vertical-align: middle;\n",
       "    }\n",
       "\n",
       "    .dataframe tbody tr th {\n",
       "        vertical-align: top;\n",
       "    }\n",
       "\n",
       "    .dataframe thead th {\n",
       "        text-align: right;\n",
       "    }\n",
       "</style>\n",
       "<table border=\"1\" class=\"dataframe\">\n",
       "  <thead>\n",
       "    <tr style=\"text-align: right;\">\n",
       "      <th></th>\n",
       "      <th>mean</th>\n",
       "      <th>std</th>\n",
       "      <th>min</th>\n",
       "      <th>max</th>\n",
       "    </tr>\n",
       "  </thead>\n",
       "  <tbody>\n",
       "    <tr>\n",
       "      <th>ArrayMasks_Imgs</th>\n",
       "      <td>3.60</td>\n",
       "      <td>0.994723</td>\n",
       "      <td>2.0</td>\n",
       "      <td>5.0</td>\n",
       "    </tr>\n",
       "    <tr>\n",
       "      <th>ArrayMasks_Imgs_Ovr</th>\n",
       "      <td>3.10</td>\n",
       "      <td>1.209611</td>\n",
       "      <td>1.0</td>\n",
       "      <td>5.0</td>\n",
       "    </tr>\n",
       "    <tr>\n",
       "      <th>ConcatMasks_NoSc_Hz</th>\n",
       "      <td>1.70</td>\n",
       "      <td>1.080935</td>\n",
       "      <td>1.0</td>\n",
       "      <td>4.0</td>\n",
       "    </tr>\n",
       "    <tr>\n",
       "      <th>ConcatMasks_NoSc_Vr</th>\n",
       "      <td>1.75</td>\n",
       "      <td>1.208522</td>\n",
       "      <td>1.0</td>\n",
       "      <td>4.0</td>\n",
       "    </tr>\n",
       "    <tr>\n",
       "      <th>ConcatMasks_Ovr_Hz</th>\n",
       "      <td>2.45</td>\n",
       "      <td>1.468081</td>\n",
       "      <td>1.0</td>\n",
       "      <td>5.0</td>\n",
       "    </tr>\n",
       "    <tr>\n",
       "      <th>ConcatMasks_Ovr_Vr</th>\n",
       "      <td>2.20</td>\n",
       "      <td>1.239694</td>\n",
       "      <td>1.0</td>\n",
       "      <td>4.0</td>\n",
       "    </tr>\n",
       "    <tr>\n",
       "      <th>ConcatMasks_Sc_Hz</th>\n",
       "      <td>3.30</td>\n",
       "      <td>1.174286</td>\n",
       "      <td>2.0</td>\n",
       "      <td>5.0</td>\n",
       "    </tr>\n",
       "    <tr>\n",
       "      <th>ConcatMasks_Sc_Vr</th>\n",
       "      <td>3.40</td>\n",
       "      <td>0.994723</td>\n",
       "      <td>2.0</td>\n",
       "      <td>5.0</td>\n",
       "    </tr>\n",
       "    <tr>\n",
       "      <th>SepMasks_NoSc</th>\n",
       "      <td>3.05</td>\n",
       "      <td>1.468081</td>\n",
       "      <td>1.0</td>\n",
       "      <td>5.0</td>\n",
       "    </tr>\n",
       "    <tr>\n",
       "      <th>SepMasks_Ovr</th>\n",
       "      <td>3.90</td>\n",
       "      <td>0.967906</td>\n",
       "      <td>2.0</td>\n",
       "      <td>5.0</td>\n",
       "    </tr>\n",
       "    <tr>\n",
       "      <th>SepMasks_Sc</th>\n",
       "      <td>3.65</td>\n",
       "      <td>0.988087</td>\n",
       "      <td>2.0</td>\n",
       "      <td>5.0</td>\n",
       "    </tr>\n",
       "  </tbody>\n",
       "</table>\n",
       "</div>"
      ],
      "text/plain": [
       "                     mean       std  min  max\n",
       "ArrayMasks_Imgs      3.60  0.994723  2.0  5.0\n",
       "ArrayMasks_Imgs_Ovr  3.10  1.209611  1.0  5.0\n",
       "ConcatMasks_NoSc_Hz  1.70  1.080935  1.0  4.0\n",
       "ConcatMasks_NoSc_Vr  1.75  1.208522  1.0  4.0\n",
       "ConcatMasks_Ovr_Hz   2.45  1.468081  1.0  5.0\n",
       "ConcatMasks_Ovr_Vr   2.20  1.239694  1.0  4.0\n",
       "ConcatMasks_Sc_Hz    3.30  1.174286  2.0  5.0\n",
       "ConcatMasks_Sc_Vr    3.40  0.994723  2.0  5.0\n",
       "SepMasks_NoSc        3.05  1.468081  1.0  5.0\n",
       "SepMasks_Ovr         3.90  0.967906  2.0  5.0\n",
       "SepMasks_Sc          3.65  0.988087  2.0  5.0"
      ]
     },
     "execution_count": 11,
     "metadata": {},
     "output_type": "execute_result"
    }
   ],
   "source": [
    "df_score_prs.describe().transpose().sort_index()[[\"mean\", \"std\", \"min\", \"max\"]]"
   ]
  },
  {
   "cell_type": "code",
   "execution_count": 12,
   "metadata": {},
   "outputs": [
    {
     "data": {
      "text/html": [
       "<div>\n",
       "<style scoped>\n",
       "    .dataframe tbody tr th:only-of-type {\n",
       "        vertical-align: middle;\n",
       "    }\n",
       "\n",
       "    .dataframe tbody tr th {\n",
       "        vertical-align: top;\n",
       "    }\n",
       "\n",
       "    .dataframe thead th {\n",
       "        text-align: right;\n",
       "    }\n",
       "</style>\n",
       "<table border=\"1\" class=\"dataframe\">\n",
       "  <thead>\n",
       "    <tr style=\"text-align: right;\">\n",
       "      <th></th>\n",
       "      <th>cmap_as_names</th>\n",
       "      <th>cmap_as_patches</th>\n",
       "      <th>cmap_as_img</th>\n",
       "      <th>cmap_as_rgb</th>\n",
       "    </tr>\n",
       "  </thead>\n",
       "  <tbody>\n",
       "    <tr>\n",
       "      <th>mean</th>\n",
       "      <td>2.904545</td>\n",
       "      <td>3.186364</td>\n",
       "      <td>3.10</td>\n",
       "      <td>2.918182</td>\n",
       "    </tr>\n",
       "    <tr>\n",
       "      <th>std</th>\n",
       "      <td>0.705852</td>\n",
       "      <td>0.451714</td>\n",
       "      <td>0.55</td>\n",
       "      <td>0.773069</td>\n",
       "    </tr>\n",
       "    <tr>\n",
       "      <th>min</th>\n",
       "      <td>1.800000</td>\n",
       "      <td>2.350000</td>\n",
       "      <td>1.95</td>\n",
       "      <td>1.700000</td>\n",
       "    </tr>\n",
       "    <tr>\n",
       "      <th>max</th>\n",
       "      <td>3.600000</td>\n",
       "      <td>3.700000</td>\n",
       "      <td>3.70</td>\n",
       "      <td>3.900000</td>\n",
       "    </tr>\n",
       "  </tbody>\n",
       "</table>\n",
       "</div>"
      ],
      "text/plain": [
       "      cmap_as_names  cmap_as_patches  cmap_as_img  cmap_as_rgb\n",
       "mean       2.904545         3.186364         3.10     2.918182\n",
       "std        0.705852         0.451714         0.55     0.773069\n",
       "min        1.800000         2.350000         1.95     1.700000\n",
       "max        3.600000         3.700000         3.70     3.900000"
      ]
     },
     "metadata": {},
     "output_type": "display_data"
    }
   ],
   "source": [
    "display(df_mean_score_prs.describe().iloc[[1, 2, 3, 7]])"
   ]
  }
 ],
 "metadata": {
  "colab": {
   "provenance": [
    {
     "file_id": "/v2/external/notebooks/empty.ipynb",
     "timestamp": 1742717556086
    }
   ]
  },
  "kernelspec": {
   "display_name": "base",
   "language": "python",
   "name": "python3"
  },
  "language_info": {
   "codemirror_mode": {
    "name": "ipython",
    "version": 3
   },
   "file_extension": ".py",
   "mimetype": "text/x-python",
   "name": "python",
   "nbconvert_exporter": "python",
   "pygments_lexer": "ipython3",
   "version": "3.11.11"
  }
 },
 "nbformat": 4,
 "nbformat_minor": 0
}
