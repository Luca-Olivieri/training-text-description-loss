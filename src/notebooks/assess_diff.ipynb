{
 "cells": [
  {
   "cell_type": "markdown",
   "metadata": {},
   "source": [
    "# Setup"
   ]
  },
  {
   "cell_type": "code",
   "execution_count": 1,
   "metadata": {},
   "outputs": [],
   "source": [
    "import sys\n",
    "from pathlib import Path\n",
    "\n",
    "%load_ext autoreload\n",
    "%autoreload 2\n",
    "\n",
    "root_path = Path(\"/home/olivieri/exp\").resolve()\n",
    "src_path = root_path / \"src\"\n",
    "sys.path.append(f\"{str(src_path)}\")"
   ]
  },
  {
   "cell_type": "code",
   "execution_count": 2,
   "metadata": {},
   "outputs": [],
   "source": [
    "import pandas as pd\n",
    "from glob import glob\n",
    "import os\n",
    "\n",
    "from prompter import *\n",
    "from data import *"
   ]
  },
  {
   "cell_type": "code",
   "execution_count": 3,
   "metadata": {},
   "outputs": [],
   "source": [
    "# Setting\n",
    "BY_MODEL = \"LRASPP_MobileNet_V3\"\n",
    "IMAGE_RESIZING_MODE = \"letterboxed\"\n",
    "OUTPUT_MODE = \"freeform\"\n",
    "SPLIT_BY = \"class-splitted\""
   ]
  },
  {
   "cell_type": "code",
   "execution_count": 4,
   "metadata": {},
   "outputs": [],
   "source": [
    "root_exp_name = \"test_class_split\""
   ]
  },
  {
   "cell_type": "code",
   "execution_count": 5,
   "metadata": {},
   "outputs": [
    {
     "data": {
      "text/plain": [
       "['non-splitted']"
      ]
     },
     "execution_count": 5,
     "metadata": {},
     "output_type": "execute_result"
    }
   ],
   "source": [
    "root_exp_path = get_selected_annots_path(BY_MODEL, IMAGE_RESIZING_MODE, OUTPUT_MODE, SPLIT_BY) / \"eval_prs\" / root_exp_name\n",
    "\n",
    "exps_path = glob(f\"{root_exp_path}/*\")[:1]\n",
    "exps_names = [os.path.splitext(os.path.basename(path))[0] for path in exps_path]\n",
    "exps_names"
   ]
  },
  {
   "cell_type": "markdown",
   "metadata": {},
   "source": [
    "# Prompt Assessment"
   ]
  },
  {
   "cell_type": "code",
   "execution_count": 6,
   "metadata": {},
   "outputs": [],
   "source": [
    "df_mean_pred_prs = pd.DataFrame()\n",
    "df_mean_score_prs = pd.DataFrame() \n",
    "\n",
    "for exp_path, exp_name in zip(exps_path, exps_names):\n",
    "    \n",
    "    variation_paths = glob(f\"{exp_path}/*.jsonl\")\n",
    "    variations_names = [os.path.splitext(os.path.basename(path))[0] for path in variation_paths]\n",
    "\n",
    "    df_pred_prs = pd.DataFrame()\n",
    "    df_score_prs = pd.DataFrame() \n",
    "\n",
    "    for variation_name in variations_names:\n",
    "        \n",
    "        eval_prs = get_many_eval_pr(BY_MODEL, IMAGE_RESIZING_MODE, OUTPUT_MODE, SPLIT_BY, f\"{root_exp_name}/{exp_name}\", variation_name, return_state=False)\n",
    "\n",
    "        _df_all_prs = pd.DataFrame.from_dict(eval_prs, orient='index')\n",
    "        _df_pred_prs = _df_all_prs[\"pred\"].map(lambda x: x if x is None else int(x == \"correct\"))\n",
    "        _df_score_prs = _df_all_prs[\"score\"]\n",
    "        _df_reason_prs = _df_all_prs[\"reason\"]\n",
    "\n",
    "        df_pred_prs = pd.concat([df_pred_prs, _df_pred_prs], axis=1)\n",
    "        df_score_prs = pd.concat([df_score_prs, _df_score_prs], axis=1)\n",
    "    \n",
    "    df_pred_prs.columns = variations_names\n",
    "    df_score_prs.columns = variations_names\n",
    "\n",
    "    df_mean_pred_prs = pd.concat([df_mean_pred_prs, df_pred_prs.mean(axis=0)], axis=1)\n",
    "    df_mean_score_prs = pd.concat([df_mean_score_prs, df_score_prs.mean(axis=0)], axis=1)\n",
    "\n",
    "df_mean_pred_prs.columns = exps_names\n",
    "df_mean_score_prs.columns = exps_names\n"
   ]
  },
  {
   "cell_type": "markdown",
   "metadata": {},
   "source": [
    "## Pred"
   ]
  },
  {
   "cell_type": "code",
   "execution_count": 11,
   "metadata": {},
   "outputs": [
    {
     "data": {
      "text/html": [
       "<div>\n",
       "<style scoped>\n",
       "    .dataframe tbody tr th:only-of-type {\n",
       "        vertical-align: middle;\n",
       "    }\n",
       "\n",
       "    .dataframe tbody tr th {\n",
       "        vertical-align: top;\n",
       "    }\n",
       "\n",
       "    .dataframe thead th {\n",
       "        text-align: right;\n",
       "    }\n",
       "</style>\n",
       "<table border=\"1\" class=\"dataframe\">\n",
       "  <thead>\n",
       "    <tr style=\"text-align: right;\">\n",
       "      <th></th>\n",
       "      <th>mean</th>\n",
       "      <th>std</th>\n",
       "      <th>min</th>\n",
       "      <th>max</th>\n",
       "    </tr>\n",
       "  </thead>\n",
       "  <tbody>\n",
       "    <tr>\n",
       "      <th>ArrayMasks</th>\n",
       "      <td>0.55</td>\n",
       "      <td>0.510418</td>\n",
       "      <td>0.0</td>\n",
       "      <td>1.0</td>\n",
       "    </tr>\n",
       "    <tr>\n",
       "      <th>ArrayMasks_Imgs</th>\n",
       "      <td>0.80</td>\n",
       "      <td>0.410391</td>\n",
       "      <td>0.0</td>\n",
       "      <td>1.0</td>\n",
       "    </tr>\n",
       "    <tr>\n",
       "      <th>ArrayMasks_Imgs_Ovr</th>\n",
       "      <td>0.80</td>\n",
       "      <td>0.410391</td>\n",
       "      <td>0.0</td>\n",
       "      <td>1.0</td>\n",
       "    </tr>\n",
       "    <tr>\n",
       "      <th>ConcatMasks_NoSc_Hz</th>\n",
       "      <td>0.40</td>\n",
       "      <td>0.502625</td>\n",
       "      <td>0.0</td>\n",
       "      <td>1.0</td>\n",
       "    </tr>\n",
       "    <tr>\n",
       "      <th>ConcatMasks_NoSc_Vr</th>\n",
       "      <td>0.60</td>\n",
       "      <td>0.502625</td>\n",
       "      <td>0.0</td>\n",
       "      <td>1.0</td>\n",
       "    </tr>\n",
       "    <tr>\n",
       "      <th>ConcatMasks_Ovr_Hz</th>\n",
       "      <td>0.60</td>\n",
       "      <td>0.502625</td>\n",
       "      <td>0.0</td>\n",
       "      <td>1.0</td>\n",
       "    </tr>\n",
       "    <tr>\n",
       "      <th>ConcatMasks_Ovr_Vr</th>\n",
       "      <td>0.45</td>\n",
       "      <td>0.510418</td>\n",
       "      <td>0.0</td>\n",
       "      <td>1.0</td>\n",
       "    </tr>\n",
       "    <tr>\n",
       "      <th>ConcatMasks_Sc_Hz</th>\n",
       "      <td>0.55</td>\n",
       "      <td>0.510418</td>\n",
       "      <td>0.0</td>\n",
       "      <td>1.0</td>\n",
       "    </tr>\n",
       "    <tr>\n",
       "      <th>ConcatMasks_Sc_Vr</th>\n",
       "      <td>0.70</td>\n",
       "      <td>0.470162</td>\n",
       "      <td>0.0</td>\n",
       "      <td>1.0</td>\n",
       "    </tr>\n",
       "    <tr>\n",
       "      <th>SepMasks_NoSc</th>\n",
       "      <td>0.60</td>\n",
       "      <td>0.502625</td>\n",
       "      <td>0.0</td>\n",
       "      <td>1.0</td>\n",
       "    </tr>\n",
       "    <tr>\n",
       "      <th>SepMasks_Ovr</th>\n",
       "      <td>0.80</td>\n",
       "      <td>0.410391</td>\n",
       "      <td>0.0</td>\n",
       "      <td>1.0</td>\n",
       "    </tr>\n",
       "    <tr>\n",
       "      <th>SepMasks_Sc</th>\n",
       "      <td>0.85</td>\n",
       "      <td>0.366348</td>\n",
       "      <td>0.0</td>\n",
       "      <td>1.0</td>\n",
       "    </tr>\n",
       "  </tbody>\n",
       "</table>\n",
       "</div>"
      ],
      "text/plain": [
       "                     mean       std  min  max\n",
       "ArrayMasks           0.55  0.510418  0.0  1.0\n",
       "ArrayMasks_Imgs      0.80  0.410391  0.0  1.0\n",
       "ArrayMasks_Imgs_Ovr  0.80  0.410391  0.0  1.0\n",
       "ConcatMasks_NoSc_Hz  0.40  0.502625  0.0  1.0\n",
       "ConcatMasks_NoSc_Vr  0.60  0.502625  0.0  1.0\n",
       "ConcatMasks_Ovr_Hz   0.60  0.502625  0.0  1.0\n",
       "ConcatMasks_Ovr_Vr   0.45  0.510418  0.0  1.0\n",
       "ConcatMasks_Sc_Hz    0.55  0.510418  0.0  1.0\n",
       "ConcatMasks_Sc_Vr    0.70  0.470162  0.0  1.0\n",
       "SepMasks_NoSc        0.60  0.502625  0.0  1.0\n",
       "SepMasks_Ovr         0.80  0.410391  0.0  1.0\n",
       "SepMasks_Sc          0.85  0.366348  0.0  1.0"
      ]
     },
     "metadata": {},
     "output_type": "display_data"
    },
    {
     "data": {
      "image/png": "[encoded data removed]",
      "text/plain": [
       "<Figure size 640x480 with 1 Axes>"
      ]
     },
     "metadata": {},
     "output_type": "display_data"
    }
   ],
   "source": [
    "display(df_pred_prs.sort_index().describe().transpose().sort_index()[[\"mean\", \"std\", \"min\", \"max\"]])\n",
    "mean = df_pred_prs.transpose().sort_index().mean(axis=1)\n",
    "std = df_pred_prs.transpose().sort_index().std(axis=1)\n",
    "plt.bar(mean.index, mean, yerr=std, capsize=5, alpha=0.9)\n",
    "plt.ylim(bottom=0)\n",
    "plt.xticks(rotation=90)\n",
    "plt.show()"
   ]
  },
  {
   "cell_type": "code",
   "execution_count": 8,
   "metadata": {},
   "outputs": [
    {
     "data": {
      "text/html": [
       "<div>\n",
       "<style scoped>\n",
       "    .dataframe tbody tr th:only-of-type {\n",
       "        vertical-align: middle;\n",
       "    }\n",
       "\n",
       "    .dataframe tbody tr th {\n",
       "        vertical-align: top;\n",
       "    }\n",
       "\n",
       "    .dataframe thead th {\n",
       "        text-align: right;\n",
       "    }\n",
       "</style>\n",
       "<table border=\"1\" class=\"dataframe\">\n",
       "  <thead>\n",
       "    <tr style=\"text-align: right;\">\n",
       "      <th></th>\n",
       "      <th>non-splitted</th>\n",
       "    </tr>\n",
       "  </thead>\n",
       "  <tbody>\n",
       "    <tr>\n",
       "      <th>mean</th>\n",
       "      <td>0.641667</td>\n",
       "    </tr>\n",
       "    <tr>\n",
       "      <th>std</th>\n",
       "      <td>0.147453</td>\n",
       "    </tr>\n",
       "    <tr>\n",
       "      <th>min</th>\n",
       "      <td>0.400000</td>\n",
       "    </tr>\n",
       "    <tr>\n",
       "      <th>max</th>\n",
       "      <td>0.850000</td>\n",
       "    </tr>\n",
       "  </tbody>\n",
       "</table>\n",
       "</div>"
      ],
      "text/plain": [
       "      non-splitted\n",
       "mean      0.641667\n",
       "std       0.147453\n",
       "min       0.400000\n",
       "max       0.850000"
      ]
     },
     "metadata": {},
     "output_type": "display_data"
    }
   ],
   "source": [
    "display(df_mean_pred_prs.describe().iloc[[1, 2, 3, 7]])"
   ]
  },
  {
   "cell_type": "markdown",
   "metadata": {},
   "source": [
    "## Score"
   ]
  },
  {
   "cell_type": "code",
   "execution_count": 9,
   "metadata": {},
   "outputs": [
    {
     "data": {
      "text/html": [
       "<div>\n",
       "<style scoped>\n",
       "    .dataframe tbody tr th:only-of-type {\n",
       "        vertical-align: middle;\n",
       "    }\n",
       "\n",
       "    .dataframe tbody tr th {\n",
       "        vertical-align: top;\n",
       "    }\n",
       "\n",
       "    .dataframe thead th {\n",
       "        text-align: right;\n",
       "    }\n",
       "</style>\n",
       "<table border=\"1\" class=\"dataframe\">\n",
       "  <thead>\n",
       "    <tr style=\"text-align: right;\">\n",
       "      <th></th>\n",
       "      <th>mean</th>\n",
       "      <th>std</th>\n",
       "      <th>min</th>\n",
       "      <th>max</th>\n",
       "    </tr>\n",
       "  </thead>\n",
       "  <tbody>\n",
       "    <tr>\n",
       "      <th>ArrayMasks</th>\n",
       "      <td>3.15</td>\n",
       "      <td>1.089423</td>\n",
       "      <td>2.0</td>\n",
       "      <td>5.0</td>\n",
       "    </tr>\n",
       "    <tr>\n",
       "      <th>ArrayMasks_Imgs</th>\n",
       "      <td>3.85</td>\n",
       "      <td>1.089423</td>\n",
       "      <td>2.0</td>\n",
       "      <td>5.0</td>\n",
       "    </tr>\n",
       "    <tr>\n",
       "      <th>ArrayMasks_Imgs_Ovr</th>\n",
       "      <td>3.85</td>\n",
       "      <td>1.039990</td>\n",
       "      <td>2.0</td>\n",
       "      <td>5.0</td>\n",
       "    </tr>\n",
       "    <tr>\n",
       "      <th>ConcatMasks_NoSc_Hz</th>\n",
       "      <td>2.65</td>\n",
       "      <td>1.531253</td>\n",
       "      <td>1.0</td>\n",
       "      <td>5.0</td>\n",
       "    </tr>\n",
       "    <tr>\n",
       "      <th>ConcatMasks_NoSc_Vr</th>\n",
       "      <td>3.10</td>\n",
       "      <td>1.293709</td>\n",
       "      <td>1.0</td>\n",
       "      <td>5.0</td>\n",
       "    </tr>\n",
       "    <tr>\n",
       "      <th>ConcatMasks_Ovr_Hz</th>\n",
       "      <td>3.40</td>\n",
       "      <td>1.187656</td>\n",
       "      <td>1.0</td>\n",
       "      <td>5.0</td>\n",
       "    </tr>\n",
       "    <tr>\n",
       "      <th>ConcatMasks_Ovr_Vr</th>\n",
       "      <td>2.95</td>\n",
       "      <td>1.190975</td>\n",
       "      <td>1.0</td>\n",
       "      <td>5.0</td>\n",
       "    </tr>\n",
       "    <tr>\n",
       "      <th>ConcatMasks_Sc_Hz</th>\n",
       "      <td>3.20</td>\n",
       "      <td>1.281447</td>\n",
       "      <td>1.0</td>\n",
       "      <td>5.0</td>\n",
       "    </tr>\n",
       "    <tr>\n",
       "      <th>ConcatMasks_Sc_Vr</th>\n",
       "      <td>3.70</td>\n",
       "      <td>1.031095</td>\n",
       "      <td>2.0</td>\n",
       "      <td>5.0</td>\n",
       "    </tr>\n",
       "    <tr>\n",
       "      <th>SepMasks_NoSc</th>\n",
       "      <td>2.95</td>\n",
       "      <td>1.503505</td>\n",
       "      <td>1.0</td>\n",
       "      <td>5.0</td>\n",
       "    </tr>\n",
       "    <tr>\n",
       "      <th>SepMasks_Ovr</th>\n",
       "      <td>3.85</td>\n",
       "      <td>0.933302</td>\n",
       "      <td>2.0</td>\n",
       "      <td>5.0</td>\n",
       "    </tr>\n",
       "    <tr>\n",
       "      <th>SepMasks_Sc</th>\n",
       "      <td>4.00</td>\n",
       "      <td>0.858395</td>\n",
       "      <td>2.0</td>\n",
       "      <td>5.0</td>\n",
       "    </tr>\n",
       "  </tbody>\n",
       "</table>\n",
       "</div>"
      ],
      "text/plain": [
       "                     mean       std  min  max\n",
       "ArrayMasks           3.15  1.089423  2.0  5.0\n",
       "ArrayMasks_Imgs      3.85  1.089423  2.0  5.0\n",
       "ArrayMasks_Imgs_Ovr  3.85  1.039990  2.0  5.0\n",
       "ConcatMasks_NoSc_Hz  2.65  1.531253  1.0  5.0\n",
       "ConcatMasks_NoSc_Vr  3.10  1.293709  1.0  5.0\n",
       "ConcatMasks_Ovr_Hz   3.40  1.187656  1.0  5.0\n",
       "ConcatMasks_Ovr_Vr   2.95  1.190975  1.0  5.0\n",
       "ConcatMasks_Sc_Hz    3.20  1.281447  1.0  5.0\n",
       "ConcatMasks_Sc_Vr    3.70  1.031095  2.0  5.0\n",
       "SepMasks_NoSc        2.95  1.503505  1.0  5.0\n",
       "SepMasks_Ovr         3.85  0.933302  2.0  5.0\n",
       "SepMasks_Sc          4.00  0.858395  2.0  5.0"
      ]
     },
     "execution_count": 9,
     "metadata": {},
     "output_type": "execute_result"
    }
   ],
   "source": [
    "df_score_prs.describe().transpose().sort_index()[[\"mean\", \"std\", \"min\", \"max\"]]"
   ]
  },
  {
   "cell_type": "code",
   "execution_count": 10,
   "metadata": {},
   "outputs": [
    {
     "data": {
      "text/html": [
       "<div>\n",
       "<style scoped>\n",
       "    .dataframe tbody tr th:only-of-type {\n",
       "        vertical-align: middle;\n",
       "    }\n",
       "\n",
       "    .dataframe tbody tr th {\n",
       "        vertical-align: top;\n",
       "    }\n",
       "\n",
       "    .dataframe thead th {\n",
       "        text-align: right;\n",
       "    }\n",
       "</style>\n",
       "<table border=\"1\" class=\"dataframe\">\n",
       "  <thead>\n",
       "    <tr style=\"text-align: right;\">\n",
       "      <th></th>\n",
       "      <th>non-splitted</th>\n",
       "    </tr>\n",
       "  </thead>\n",
       "  <tbody>\n",
       "    <tr>\n",
       "      <th>mean</th>\n",
       "      <td>3.387500</td>\n",
       "    </tr>\n",
       "    <tr>\n",
       "      <th>std</th>\n",
       "      <td>0.448799</td>\n",
       "    </tr>\n",
       "    <tr>\n",
       "      <th>min</th>\n",
       "      <td>2.650000</td>\n",
       "    </tr>\n",
       "    <tr>\n",
       "      <th>max</th>\n",
       "      <td>4.000000</td>\n",
       "    </tr>\n",
       "  </tbody>\n",
       "</table>\n",
       "</div>"
      ],
      "text/plain": [
       "      non-splitted\n",
       "mean      3.387500\n",
       "std       0.448799\n",
       "min       2.650000\n",
       "max       4.000000"
      ]
     },
     "metadata": {},
     "output_type": "display_data"
    }
   ],
   "source": [
    "display(df_mean_score_prs.describe().iloc[[1, 2, 3, 7]])"
   ]
  }
 ],
 "metadata": {
  "colab": {
   "provenance": [
    {
     "file_id": "/v2/external/notebooks/empty.ipynb",
     "timestamp": 1742717556086
    }
   ]
  },
  "kernelspec": {
   "display_name": "base",
   "language": "python",
   "name": "python3"
  },
  "language_info": {
   "codemirror_mode": {
    "name": "ipython",
    "version": 3
   },
   "file_extension": ".py",
   "mimetype": "text/x-python",
   "name": "python",
   "nbconvert_exporter": "python",
   "pygments_lexer": "ipython3",
   "version": "3.11.11"
  }
 },
 "nbformat": 4,
 "nbformat_minor": 0
}
