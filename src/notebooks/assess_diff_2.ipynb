{
 "cells": [
  {
   "cell_type": "markdown",
   "metadata": {},
   "source": [
    "# Setup"
   ]
  },
  {
   "cell_type": "code",
   "execution_count": 1,
   "metadata": {},
   "outputs": [],
   "source": [
    "import sys\n",
    "from pathlib import Path\n",
    "\n",
    "%load_ext autoreload\n",
    "%autoreload 2\n",
    "\n",
    "root_path = Path(\"/home/olivieri/exp\").resolve()\n",
    "src_path = root_path / \"src\"\n",
    "sys.path.append(f\"{str(src_path)}\")"
   ]
  },
  {
   "cell_type": "code",
   "execution_count": 2,
   "metadata": {},
   "outputs": [],
   "source": [
    "import pandas as pd\n",
    "from glob import glob\n",
    "import os\n",
    "import xarray as xr\n",
    "\n",
    "from prompter import *\n",
    "from data import *"
   ]
  },
  {
   "cell_type": "code",
   "execution_count": null,
   "metadata": {},
   "outputs": [],
   "source": [
    "# Setting\n",
    "BY_MODEL = \"LRASPP_MobileNet_V3\"\n",
    "SPLIT_BY = \"non-splitted\""
   ]
  },
  {
   "cell_type": "code",
   "execution_count": 4,
   "metadata": {},
   "outputs": [],
   "source": [
    "root_exp_name = \"test_resized\""
   ]
  },
  {
   "cell_type": "code",
   "execution_count": null,
   "metadata": {},
   "outputs": [
    {
     "data": {
      "text/plain": [
       "['cmap_as_names', 'cmap_as_patches', 'cmap_as_img', 'cmap_as_rgb']"
      ]
     },
     "execution_count": 5,
     "metadata": {},
     "output_type": "execute_result"
    }
   ],
   "source": [
    "root_exp_path = get_selected_annots_path(BY_MODEL, SPLIT_BY) / \"eval_prs\" / root_exp_name\n",
    "\n",
    "exps_path = glob(f\"{root_exp_path}/*\")\n",
    "exps_names = [os.path.splitext(os.path.basename(path))[0] for path in exps_path]\n",
    "exps_names"
   ]
  },
  {
   "cell_type": "code",
   "execution_count": 6,
   "metadata": {},
   "outputs": [
    {
     "data": {
      "text/plain": [
       "['/home/olivieri/exp/data/VOCdevkit/VOC2012/MyAnnotations/by_model/LRASPP_MobileNet_V3/resized/freeform/non-splitted/eval_prs/test_resized/cmap_as_names',\n",
       " '/home/olivieri/exp/data/VOCdevkit/VOC2012/MyAnnotations/by_model/LRASPP_MobileNet_V3/resized/freeform/non-splitted/eval_prs/test_resized/cmap_as_patches',\n",
       " '/home/olivieri/exp/data/VOCdevkit/VOC2012/MyAnnotations/by_model/LRASPP_MobileNet_V3/resized/freeform/non-splitted/eval_prs/test_resized/cmap_as_img',\n",
       " '/home/olivieri/exp/data/VOCdevkit/VOC2012/MyAnnotations/by_model/LRASPP_MobileNet_V3/resized/freeform/non-splitted/eval_prs/test_resized/cmap_as_rgb']"
      ]
     },
     "execution_count": 6,
     "metadata": {},
     "output_type": "execute_result"
    }
   ],
   "source": [
    "exps_path"
   ]
  },
  {
   "cell_type": "markdown",
   "metadata": {},
   "source": [
    "# Prompt Assessment"
   ]
  },
  {
   "cell_type": "code",
   "execution_count": null,
   "metadata": {},
   "outputs": [],
   "source": [
    "# levels = [\"exp\", \"var\", \"\"]\n",
    "data_da = None\n",
    "\n",
    "for exp_path, exp_name in zip(exps_path, exps_names):\n",
    "    \n",
    "    variation_paths = glob(f\"{exp_path}/*.jsonl\")\n",
    "    variations_names = [os.path.splitext(os.path.basename(path))[0] for path in variation_paths]\n",
    "\n",
    "    pred_prs_per_var_list = []\n",
    "\n",
    "    for variation_name in variations_names:\n",
    "        \n",
    "        eval_prs = get_many_eval_pr(BY_MODEL, SPLIT_BY, f\"{root_exp_name}/{exp_name}\", variation_name, return_state=False)\n",
    "        prs_per_img_idx_df = pd.DataFrame.from_dict(eval_prs, orient='index').sort_index().sort_index(axis=1)\n",
    "        prs_per_img_idx_da = xr.DataArray(prs_per_img_idx_df, coords=[sorted(prs_per_img_idx_df.index), sorted(prs_per_img_idx_df.columns)], dims=[\"img_idx\", \"metric\"])\n",
    "        prs_per_img_idx_da.loc[..., \"pred\"] = prs_per_img_idx_da.sel(metric=\"pred\") == \"correct\"\n",
    "        \n",
    "        if data_da is None:\n",
    "            coords = [exps_names, variations_names, prs_per_img_idx_df.index, prs_per_img_idx_df.columns] # indexes names\n",
    "            sorted_coords = [sorted(dim_values) for dim_values in coords]\n",
    "            dims = [\"exp\", \"var\", \"img_idx\", \"metric\"] # dimensions names\n",
    "            shape = [len(l) for l in sorted_coords]\n",
    "            data_da = xr.DataArray(np.empty(shape, dtype=object), coords=sorted_coords, dims=dims)\n",
    "\n",
    "        data_da.loc[exp_name, variation_name] = prs_per_img_idx_da"
   ]
  },
  {
   "cell_type": "markdown",
   "metadata": {},
   "source": [
    "## Pred"
   ]
  },
  {
   "cell_type": "code",
   "execution_count": 8,
   "metadata": {},
   "outputs": [],
   "source": [
    "def describe_da(data_da: xr.DataArray, dims_to_agg: list[str]) -> pd.DataFrame:\n",
    "    stats = {\n",
    "        \"mean\": data_da.mean(dim=dims_to_agg),\n",
    "        \"std\": data_da.std(dim=dims_to_agg),\n",
    "        \"min\": data_da.min(dim=dims_to_agg),\n",
    "        \"max\": data_da.max(dim=dims_to_agg),\n",
    "    }\n",
    "    # Convert to DataArrays and stack\n",
    "    df = xr.concat(stats.values(), dim=\"stat\").assign_coords(stat=list(stats)).to_pandas()\n",
    "    if len(df.shape) > 2: raise AttributeError \n",
    "    return df"
   ]
  },
  {
   "cell_type": "code",
   "execution_count": 9,
   "metadata": {},
   "outputs": [],
   "source": [
    "def describe_da(data_da: xr.DataArray, dims_to_agg: list[str]) -> pd.DataFrame:\n",
    "    stats = {\n",
    "        \"mean\": data_da.mean(dim=dims_to_agg),\n",
    "        \"std\": data_da.std(dim=dims_to_agg, ddof=1),\n",
    "        \"min\": data_da.min(dim=dims_to_agg),\n",
    "        \"max\": data_da.max(dim=dims_to_agg),\n",
    "    }\n",
    "    # Convert to DataArrays and stack\n",
    "    df = xr.concat(stats.values(), dim=\"stat\").assign_coords(stat=list(stats)).to_pandas().transpose()\n",
    "    if len(df.shape) > 2: raise AttributeError \n",
    "    return df"
   ]
  },
  {
   "cell_type": "code",
   "execution_count": 10,
   "metadata": {},
   "outputs": [
    {
     "data": {
      "text/html": [
       "<div>\n",
       "<style scoped>\n",
       "    .dataframe tbody tr th:only-of-type {\n",
       "        vertical-align: middle;\n",
       "    }\n",
       "\n",
       "    .dataframe tbody tr th {\n",
       "        vertical-align: top;\n",
       "    }\n",
       "\n",
       "    .dataframe thead th {\n",
       "        text-align: right;\n",
       "    }\n",
       "</style>\n",
       "<table border=\"1\" class=\"dataframe\">\n",
       "  <thead>\n",
       "    <tr style=\"text-align: right;\">\n",
       "      <th>stat</th>\n",
       "      <th>mean</th>\n",
       "      <th>std</th>\n",
       "      <th>min</th>\n",
       "      <th>max</th>\n",
       "    </tr>\n",
       "    <tr>\n",
       "      <th>exp</th>\n",
       "      <th></th>\n",
       "      <th></th>\n",
       "      <th></th>\n",
       "      <th></th>\n",
       "    </tr>\n",
       "  </thead>\n",
       "  <tbody>\n",
       "    <tr>\n",
       "      <th>cmap_as_img</th>\n",
       "      <td>0.554545</td>\n",
       "      <td>0.180907</td>\n",
       "      <td>0.20</td>\n",
       "      <td>0.75</td>\n",
       "    </tr>\n",
       "    <tr>\n",
       "      <th>cmap_as_names</th>\n",
       "      <td>0.504545</td>\n",
       "      <td>0.210303</td>\n",
       "      <td>0.20</td>\n",
       "      <td>0.75</td>\n",
       "    </tr>\n",
       "    <tr>\n",
       "      <th>cmap_as_patches</th>\n",
       "      <td>0.568182</td>\n",
       "      <td>0.145384</td>\n",
       "      <td>0.30</td>\n",
       "      <td>0.75</td>\n",
       "    </tr>\n",
       "    <tr>\n",
       "      <th>cmap_as_rgb</th>\n",
       "      <td>0.518182</td>\n",
       "      <td>0.242149</td>\n",
       "      <td>0.15</td>\n",
       "      <td>0.85</td>\n",
       "    </tr>\n",
       "  </tbody>\n",
       "</table>\n",
       "</div>"
      ],
      "text/plain": [
       "stat                 mean       std   min   max\n",
       "exp                                            \n",
       "cmap_as_img      0.554545  0.180907  0.20  0.75\n",
       "cmap_as_names    0.504545  0.210303  0.20  0.75\n",
       "cmap_as_patches  0.568182  0.145384  0.30  0.75\n",
       "cmap_as_rgb      0.518182  0.242149  0.15  0.85"
      ]
     },
     "metadata": {},
     "output_type": "display_data"
    },
    {
     "data": {
      "text/plain": [
       "stat\n",
       "mean    0.536364\n",
       "std     0.029922\n",
       "min     0.504545\n",
       "max     0.568182\n",
       "dtype: float64"
      ]
     },
     "metadata": {},
     "output_type": "display_data"
    }
   ],
   "source": [
    "display(describe_da(data_da.sel(metric=\"pred\").mean([\"img_idx\"]), dims_to_agg=[\"var\"]))\n",
    "display(describe_da(data_da.sel(metric=\"pred\").mean([\"img_idx\", \"var\"]), dims_to_agg=[\"exp\"]))"
   ]
  },
  {
   "cell_type": "code",
   "execution_count": 11,
   "metadata": {},
   "outputs": [
    {
     "data": {
      "text/html": [
       "<div>\n",
       "<style scoped>\n",
       "    .dataframe tbody tr th:only-of-type {\n",
       "        vertical-align: middle;\n",
       "    }\n",
       "\n",
       "    .dataframe tbody tr th {\n",
       "        vertical-align: top;\n",
       "    }\n",
       "\n",
       "    .dataframe thead th {\n",
       "        text-align: right;\n",
       "    }\n",
       "</style>\n",
       "<table border=\"1\" class=\"dataframe\">\n",
       "  <thead>\n",
       "    <tr style=\"text-align: right;\">\n",
       "      <th>stat</th>\n",
       "      <th>mean</th>\n",
       "      <th>std</th>\n",
       "      <th>min</th>\n",
       "      <th>max</th>\n",
       "    </tr>\n",
       "    <tr>\n",
       "      <th>var</th>\n",
       "      <th></th>\n",
       "      <th></th>\n",
       "      <th></th>\n",
       "      <th></th>\n",
       "    </tr>\n",
       "  </thead>\n",
       "  <tbody>\n",
       "    <tr>\n",
       "      <th>ArrayMasks_Imgs</th>\n",
       "      <td>0.6875</td>\n",
       "      <td>0.094648</td>\n",
       "      <td>0.55</td>\n",
       "      <td>0.75</td>\n",
       "    </tr>\n",
       "    <tr>\n",
       "      <th>ArrayMasks_Imgs_Ovr</th>\n",
       "      <td>0.5625</td>\n",
       "      <td>0.143614</td>\n",
       "      <td>0.40</td>\n",
       "      <td>0.75</td>\n",
       "    </tr>\n",
       "    <tr>\n",
       "      <th>ConcatMasks_NoSc_Hz</th>\n",
       "      <td>0.2875</td>\n",
       "      <td>0.094648</td>\n",
       "      <td>0.15</td>\n",
       "      <td>0.35</td>\n",
       "    </tr>\n",
       "    <tr>\n",
       "      <th>ConcatMasks_NoSc_Vr</th>\n",
       "      <td>0.2625</td>\n",
       "      <td>0.125000</td>\n",
       "      <td>0.20</td>\n",
       "      <td>0.45</td>\n",
       "    </tr>\n",
       "    <tr>\n",
       "      <th>ConcatMasks_Ovr_Hz</th>\n",
       "      <td>0.3750</td>\n",
       "      <td>0.144338</td>\n",
       "      <td>0.20</td>\n",
       "      <td>0.55</td>\n",
       "    </tr>\n",
       "    <tr>\n",
       "      <th>ConcatMasks_Ovr_Vr</th>\n",
       "      <td>0.3875</td>\n",
       "      <td>0.125000</td>\n",
       "      <td>0.25</td>\n",
       "      <td>0.55</td>\n",
       "    </tr>\n",
       "    <tr>\n",
       "      <th>ConcatMasks_Sc_Hz</th>\n",
       "      <td>0.6000</td>\n",
       "      <td>0.081650</td>\n",
       "      <td>0.50</td>\n",
       "      <td>0.70</td>\n",
       "    </tr>\n",
       "    <tr>\n",
       "      <th>ConcatMasks_Sc_Vr</th>\n",
       "      <td>0.7000</td>\n",
       "      <td>0.057735</td>\n",
       "      <td>0.65</td>\n",
       "      <td>0.75</td>\n",
       "    </tr>\n",
       "    <tr>\n",
       "      <th>SepMasks_NoSc</th>\n",
       "      <td>0.6000</td>\n",
       "      <td>0.070711</td>\n",
       "      <td>0.50</td>\n",
       "      <td>0.65</td>\n",
       "    </tr>\n",
       "    <tr>\n",
       "      <th>SepMasks_Ovr</th>\n",
       "      <td>0.7250</td>\n",
       "      <td>0.104083</td>\n",
       "      <td>0.60</td>\n",
       "      <td>0.85</td>\n",
       "    </tr>\n",
       "    <tr>\n",
       "      <th>SepMasks_Sc</th>\n",
       "      <td>0.7125</td>\n",
       "      <td>0.047871</td>\n",
       "      <td>0.65</td>\n",
       "      <td>0.75</td>\n",
       "    </tr>\n",
       "  </tbody>\n",
       "</table>\n",
       "</div>"
      ],
      "text/plain": [
       "stat                   mean       std   min   max\n",
       "var                                              \n",
       "ArrayMasks_Imgs      0.6875  0.094648  0.55  0.75\n",
       "ArrayMasks_Imgs_Ovr  0.5625  0.143614  0.40  0.75\n",
       "ConcatMasks_NoSc_Hz  0.2875  0.094648  0.15  0.35\n",
       "ConcatMasks_NoSc_Vr  0.2625  0.125000  0.20  0.45\n",
       "ConcatMasks_Ovr_Hz   0.3750  0.144338  0.20  0.55\n",
       "ConcatMasks_Ovr_Vr   0.3875  0.125000  0.25  0.55\n",
       "ConcatMasks_Sc_Hz    0.6000  0.081650  0.50  0.70\n",
       "ConcatMasks_Sc_Vr    0.7000  0.057735  0.65  0.75\n",
       "SepMasks_NoSc        0.6000  0.070711  0.50  0.65\n",
       "SepMasks_Ovr         0.7250  0.104083  0.60  0.85\n",
       "SepMasks_Sc          0.7125  0.047871  0.65  0.75"
      ]
     },
     "metadata": {},
     "output_type": "display_data"
    },
    {
     "data": {
      "image/png": "[encoded data removed]",
      "text/plain": [
       "<Figure size 640x480 with 1 Axes>"
      ]
     },
     "metadata": {},
     "output_type": "display_data"
    }
   ],
   "source": [
    "t = describe_da(data_da.sel(metric=\"pred\").mean([\"img_idx\"]), dims_to_agg=[\"exp\"])\n",
    "display(t)\n",
    "plt.bar(t[\"mean\"].index, t[\"mean\"], yerr=t[\"std\"], capsize=5, alpha=0.9)\n",
    "plt.ylim(bottom=0, top=1)\n",
    "plt.xticks(rotation=90)\n",
    "plt.show()"
   ]
  },
  {
   "cell_type": "markdown",
   "metadata": {},
   "source": [
    "## Score"
   ]
  },
  {
   "cell_type": "code",
   "execution_count": 12,
   "metadata": {},
   "outputs": [
    {
     "data": {
      "text/html": [
       "<div>\n",
       "<style scoped>\n",
       "    .dataframe tbody tr th:only-of-type {\n",
       "        vertical-align: middle;\n",
       "    }\n",
       "\n",
       "    .dataframe tbody tr th {\n",
       "        vertical-align: top;\n",
       "    }\n",
       "\n",
       "    .dataframe thead th {\n",
       "        text-align: right;\n",
       "    }\n",
       "</style>\n",
       "<table border=\"1\" class=\"dataframe\">\n",
       "  <thead>\n",
       "    <tr style=\"text-align: right;\">\n",
       "      <th>stat</th>\n",
       "      <th>mean</th>\n",
       "      <th>std</th>\n",
       "      <th>min</th>\n",
       "      <th>max</th>\n",
       "    </tr>\n",
       "    <tr>\n",
       "      <th>exp</th>\n",
       "      <th></th>\n",
       "      <th></th>\n",
       "      <th></th>\n",
       "      <th></th>\n",
       "    </tr>\n",
       "  </thead>\n",
       "  <tbody>\n",
       "    <tr>\n",
       "      <th>cmap_as_img</th>\n",
       "      <td>3.100000</td>\n",
       "      <td>0.550000</td>\n",
       "      <td>1.95</td>\n",
       "      <td>3.7</td>\n",
       "    </tr>\n",
       "    <tr>\n",
       "      <th>cmap_as_names</th>\n",
       "      <td>2.904545</td>\n",
       "      <td>0.705852</td>\n",
       "      <td>1.80</td>\n",
       "      <td>3.6</td>\n",
       "    </tr>\n",
       "    <tr>\n",
       "      <th>cmap_as_patches</th>\n",
       "      <td>3.186364</td>\n",
       "      <td>0.451714</td>\n",
       "      <td>2.35</td>\n",
       "      <td>3.7</td>\n",
       "    </tr>\n",
       "    <tr>\n",
       "      <th>cmap_as_rgb</th>\n",
       "      <td>2.918182</td>\n",
       "      <td>0.773069</td>\n",
       "      <td>1.70</td>\n",
       "      <td>3.9</td>\n",
       "    </tr>\n",
       "  </tbody>\n",
       "</table>\n",
       "</div>"
      ],
      "text/plain": [
       "stat                 mean       std   min  max\n",
       "exp                                           \n",
       "cmap_as_img      3.100000  0.550000  1.95  3.7\n",
       "cmap_as_names    2.904545  0.705852  1.80  3.6\n",
       "cmap_as_patches  3.186364  0.451714  2.35  3.7\n",
       "cmap_as_rgb      2.918182  0.773069  1.70  3.9"
      ]
     },
     "metadata": {},
     "output_type": "display_data"
    },
    {
     "data": {
      "text/plain": [
       "stat\n",
       "mean    3.027273\n",
       "std     0.138518\n",
       "min     2.904545\n",
       "max     3.186364\n",
       "dtype: float64"
      ]
     },
     "metadata": {},
     "output_type": "display_data"
    }
   ],
   "source": [
    "display(describe_da(data_da.sel(metric=\"score\").mean([\"img_idx\"]), dims_to_agg=[\"var\"]))\n",
    "display(describe_da(data_da.sel(metric=\"score\").mean([\"img_idx\", \"var\"]), dims_to_agg=[\"exp\"]))"
   ]
  },
  {
   "cell_type": "code",
   "execution_count": 13,
   "metadata": {},
   "outputs": [
    {
     "data": {
      "text/html": [
       "<div>\n",
       "<style scoped>\n",
       "    .dataframe tbody tr th:only-of-type {\n",
       "        vertical-align: middle;\n",
       "    }\n",
       "\n",
       "    .dataframe tbody tr th {\n",
       "        vertical-align: top;\n",
       "    }\n",
       "\n",
       "    .dataframe thead th {\n",
       "        text-align: right;\n",
       "    }\n",
       "</style>\n",
       "<table border=\"1\" class=\"dataframe\">\n",
       "  <thead>\n",
       "    <tr style=\"text-align: right;\">\n",
       "      <th>stat</th>\n",
       "      <th>mean</th>\n",
       "      <th>std</th>\n",
       "      <th>min</th>\n",
       "      <th>max</th>\n",
       "    </tr>\n",
       "    <tr>\n",
       "      <th>var</th>\n",
       "      <th></th>\n",
       "      <th></th>\n",
       "      <th></th>\n",
       "      <th></th>\n",
       "    </tr>\n",
       "  </thead>\n",
       "  <tbody>\n",
       "    <tr>\n",
       "      <th>ArrayMasks_Imgs</th>\n",
       "      <td>3.5625</td>\n",
       "      <td>0.149304</td>\n",
       "      <td>3.35</td>\n",
       "      <td>3.70</td>\n",
       "    </tr>\n",
       "    <tr>\n",
       "      <th>ArrayMasks_Imgs_Ovr</th>\n",
       "      <td>3.2375</td>\n",
       "      <td>0.340037</td>\n",
       "      <td>2.90</td>\n",
       "      <td>3.70</td>\n",
       "    </tr>\n",
       "    <tr>\n",
       "      <th>ConcatMasks_NoSc_Hz</th>\n",
       "      <td>2.1875</td>\n",
       "      <td>0.347311</td>\n",
       "      <td>1.70</td>\n",
       "      <td>2.50</td>\n",
       "    </tr>\n",
       "    <tr>\n",
       "      <th>ConcatMasks_NoSc_Vr</th>\n",
       "      <td>2.0375</td>\n",
       "      <td>0.417083</td>\n",
       "      <td>1.75</td>\n",
       "      <td>2.65</td>\n",
       "    </tr>\n",
       "    <tr>\n",
       "      <th>ConcatMasks_Ovr_Hz</th>\n",
       "      <td>2.4875</td>\n",
       "      <td>0.495606</td>\n",
       "      <td>1.85</td>\n",
       "      <td>3.05</td>\n",
       "    </tr>\n",
       "    <tr>\n",
       "      <th>ConcatMasks_Ovr_Vr</th>\n",
       "      <td>2.5875</td>\n",
       "      <td>0.322426</td>\n",
       "      <td>2.20</td>\n",
       "      <td>2.90</td>\n",
       "    </tr>\n",
       "    <tr>\n",
       "      <th>ConcatMasks_Sc_Hz</th>\n",
       "      <td>3.3375</td>\n",
       "      <td>0.125000</td>\n",
       "      <td>3.20</td>\n",
       "      <td>3.50</td>\n",
       "    </tr>\n",
       "    <tr>\n",
       "      <th>ConcatMasks_Sc_Vr</th>\n",
       "      <td>3.4875</td>\n",
       "      <td>0.062915</td>\n",
       "      <td>3.40</td>\n",
       "      <td>3.55</td>\n",
       "    </tr>\n",
       "    <tr>\n",
       "      <th>SepMasks_NoSc</th>\n",
       "      <td>3.2000</td>\n",
       "      <td>0.234521</td>\n",
       "      <td>2.95</td>\n",
       "      <td>3.40</td>\n",
       "    </tr>\n",
       "    <tr>\n",
       "      <th>SepMasks_Ovr</th>\n",
       "      <td>3.5875</td>\n",
       "      <td>0.265754</td>\n",
       "      <td>3.25</td>\n",
       "      <td>3.90</td>\n",
       "    </tr>\n",
       "    <tr>\n",
       "      <th>SepMasks_Sc</th>\n",
       "      <td>3.5875</td>\n",
       "      <td>0.062915</td>\n",
       "      <td>3.50</td>\n",
       "      <td>3.65</td>\n",
       "    </tr>\n",
       "  </tbody>\n",
       "</table>\n",
       "</div>"
      ],
      "text/plain": [
       "stat                   mean       std   min   max\n",
       "var                                              \n",
       "ArrayMasks_Imgs      3.5625  0.149304  3.35  3.70\n",
       "ArrayMasks_Imgs_Ovr  3.2375  0.340037  2.90  3.70\n",
       "ConcatMasks_NoSc_Hz  2.1875  0.347311  1.70  2.50\n",
       "ConcatMasks_NoSc_Vr  2.0375  0.417083  1.75  2.65\n",
       "ConcatMasks_Ovr_Hz   2.4875  0.495606  1.85  3.05\n",
       "ConcatMasks_Ovr_Vr   2.5875  0.322426  2.20  2.90\n",
       "ConcatMasks_Sc_Hz    3.3375  0.125000  3.20  3.50\n",
       "ConcatMasks_Sc_Vr    3.4875  0.062915  3.40  3.55\n",
       "SepMasks_NoSc        3.2000  0.234521  2.95  3.40\n",
       "SepMasks_Ovr         3.5875  0.265754  3.25  3.90\n",
       "SepMasks_Sc          3.5875  0.062915  3.50  3.65"
      ]
     },
     "execution_count": 13,
     "metadata": {},
     "output_type": "execute_result"
    }
   ],
   "source": [
    "describe_da(data_da.sel(metric=\"score\").mean([\"img_idx\"]), dims_to_agg=[\"exp\"])"
   ]
  }
 ],
 "metadata": {
  "colab": {
   "provenance": [
    {
     "file_id": "/v2/external/notebooks/empty.ipynb",
     "timestamp": 1742717556086
    }
   ]
  },
  "kernelspec": {
   "display_name": "base",
   "language": "python",
   "name": "python3"
  },
  "language_info": {
   "codemirror_mode": {
    "name": "ipython",
    "version": 3
   },
   "file_extension": ".py",
   "mimetype": "text/x-python",
   "name": "python",
   "nbconvert_exporter": "python",
   "pygments_lexer": "ipython3",
   "version": "3.11.11"
  }
 },
 "nbformat": 4,
 "nbformat_minor": 0
}
