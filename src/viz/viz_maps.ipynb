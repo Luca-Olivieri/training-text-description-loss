{
 "cells": [
  {
   "cell_type": "code",
   "execution_count": 1,
   "id": "42b105f7",
   "metadata": {},
   "outputs": [],
   "source": [
    "%load_ext autoreload\n",
    "%autoreload 2"
   ]
  },
  {
   "cell_type": "code",
   "execution_count": 2,
   "id": "3df08fd8",
   "metadata": {},
   "outputs": [],
   "source": [
    "from core.config import *\n",
    "\n",
    "from core.datasets import VOC2012SegDataset\n",
    "from core.torch_utils import unprefix_state_dict\n",
    "from core.viz import write_html_multi_row_image_caption, compute_cs_maps_with_captions\n",
    "from core.data_utils import flatten_list_to_depth\n",
    "from models.vle import VLE_REGISTRY, MapComputeMode\n",
    "\n",
    "from itertools import product\n",
    "from pathlib import Path\n",
    "\n",
    "import torchvision.transforms.v2.functional as TF"
   ]
  },
  {
   "cell_type": "code",
   "execution_count": 3,
   "id": "decd225f",
   "metadata": {},
   "outputs": [],
   "source": [
    "config = setup_config(BASE_CONFIG, Path('/home/olivieri/exp/src/viz/viz_config.yml'))\n",
    "seg_config = config['seg']\n",
    "vle_name: str = config['vle_name']\n",
    "vle_config = config['vles'][vle_name]"
   ]
  },
  {
   "cell_type": "code",
   "execution_count": null,
   "id": "495069d6",
   "metadata": {},
   "outputs": [],
   "source": [
    "if vle_name == 'flair':\n",
    "    vle = VLE_REGISTRY.get(\n",
    "        name='flair',\n",
    "        version='flair-cc3m-recap.pt',\n",
    "        pretrained_weights_root_path=vle_config['pretrained_weights_root_path'],\n",
    "        new_layers=vle_config['new_layers'],\n",
    "        device=config['device']\n",
    "    )\n",
    "elif vle_name == 'fg-clip':\n",
    "    vle = VLE_REGISTRY.get(\n",
    "        name='fg-clip',\n",
    "        version='fg-clip-base',\n",
    "        pretrained_weights_root_path=vle_config['pretrained_weights_root_path'],\n",
    "        device=config['device'],\n",
    "        long_captions=True\n",
    "    )"
   ]
  },
  {
   "cell_type": "code",
   "execution_count": 5,
   "id": "7897d636",
   "metadata": {},
   "outputs": [],
   "source": [
    "if vle_config['checkpoint_path']:\n",
    "    vle_checkpoint_path = Path(vle_config['checkpoint_path'])\n",
    "    # NOTE check if map_location='cpu' can improve the vRAM usage somewhere else in the codebase.\n",
    "    if vle_checkpoint_path.exists():\n",
    "        vle.model.load_state_dict(unprefix_state_dict(torch.load(vle_checkpoint_path, map_location='cpu')['model_state_dict'], prefix='_orig_mod.'))\n",
    "    else:\n",
    "        raise AttributeError(f\"ERROR: VLE weights path '{vle_checkpoint_path}' not found.\")"
   ]
  },
  {
   "cell_type": "code",
   "execution_count": 6,
   "id": "7ddbbe71",
   "metadata": {},
   "outputs": [],
   "source": [
    "img_idxs = [9, 10, 11, 12, 13, 14, 15, 17]\n",
    "\n",
    "map_compute_mode = MapComputeMode.ATTENTION\n",
    "map_resize_mode = TF.InterpolationMode.NEAREST\n",
    "normalize = True\n",
    "mask_alpha = 0.55 # the greater, the less scene is visible\n",
    "map_alpha = 1.0\n",
    "viz_image_size = 350"
   ]
  },
  {
   "cell_type": "code",
   "execution_count": 7,
   "id": "292e2449",
   "metadata": {},
   "outputs": [],
   "source": [
    "viz_ds = VOC2012SegDataset(\n",
    "    root_path=config['datasets']['VOC2012_root_path'],\n",
    "    split='prompts_split',\n",
    "    device=config['device'],\n",
    "    resize_size=config['seg']['image_size'],\n",
    "    center_crop=True,\n",
    "    img_idxs=img_idxs,\n",
    "    mask_prs_path=config['mask_prs_path']\n",
    ")\n",
    "\n",
    "jsonl_path = Path('/home/olivieri/exp/data/private/prompts_data/by_model/LRASPP_MobileNet_V3/class-splitted/answer_prs/gemma3:12b-it-qat/speed_test/SepMasks_Ovr_1fs.jsonl')"
   ]
  },
  {
   "cell_type": "code",
   "execution_count": 8,
   "id": "269cbdfa",
   "metadata": {},
   "outputs": [],
   "source": [
    "title = 'test'\n",
    "rows = dict()\n",
    "\n",
    "sim_datas = []\n",
    "\n",
    "for mask_a, contr in product(mask_alphas:=[mask_alpha, 0.0], contrs:=[False, True]):\n",
    "\n",
    "    if mask_a == 0.0 and contr == True:\n",
    "        continue\n",
    "\n",
    "    cs_pr_image_text_list = compute_cs_maps_with_captions(\n",
    "        viz_ds=viz_ds,\n",
    "        img_idxs=img_idxs,\n",
    "        jsonl_path=jsonl_path,\n",
    "        vle=vle,\n",
    "        mask_color='L',\n",
    "        alpha=mask_a,\n",
    "        map_alpha=map_alpha,\n",
    "        map_compute_mode=map_compute_mode,\n",
    "        map_resize_mode=map_resize_mode,\n",
    "        viz_image_size=viz_image_size,\n",
    "        normalize=normalize,\n",
    "        contrastive=contr\n",
    "    )\n",
    "    # display_prompt(flatten_list(cs_pr_image_text_list))\n",
    "\n",
    "    if sim_datas == []:\n",
    "        sim_datas = [\"\" for _ in range(len(flatten_list_to_depth(cs_pr_image_text_list, depth=1)))]\n",
    "\n",
    "    new_sim_data = [f\"{el[1]}<br>{el[2]}<br>\" for el in flatten_list_to_depth(cs_pr_image_text_list, depth=1)]\n",
    "    sim_datas = [s_d+new_s_d for s_d, new_s_d in zip(sim_datas, new_sim_data)]\n",
    "\n",
    "    images_row = [el[0] for el in flatten_list_to_depth(cs_pr_image_text_list, depth=1)]\n",
    "\n",
    "    rows |= {f\"{contr=}, {mask_a=}\": images_row}"
   ]
  },
  {
   "cell_type": "code",
   "execution_count": 9,
   "id": "6d94c94e",
   "metadata": {},
   "outputs": [],
   "source": [
    "captions = [s_d+f\"<br>{el[3]}\" for s_d, el in zip(sim_datas, flatten_list_to_depth(cs_pr_image_text_list, depth=1))]"
   ]
  },
  {
   "cell_type": "code",
   "execution_count": 10,
   "id": "5fd7c3e3",
   "metadata": {},
   "outputs": [
    {
     "name": "stdout",
     "output_type": "stream",
     "text": [
      "Successfully created index.html. Open it in your browser to see the result.\n"
     ]
    }
   ],
   "source": [
    "write_html_multi_row_image_caption(title, rows, captions)"
   ]
  }
 ],
 "metadata": {
  "kernelspec": {
   "display_name": "base",
   "language": "python",
   "name": "python3"
  },
  "language_info": {
   "codemirror_mode": {
    "name": "ipython",
    "version": 3
   },
   "file_extension": ".py",
   "mimetype": "text/x-python",
   "name": "python",
   "nbconvert_exporter": "python",
   "pygments_lexer": "ipython3",
   "version": "3.11.13"
  }
 },
 "nbformat": 4,
 "nbformat_minor": 5
}
