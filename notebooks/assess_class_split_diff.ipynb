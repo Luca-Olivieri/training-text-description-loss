{
 "cells": [
  {
   "cell_type": "markdown",
   "metadata": {},
   "source": [
    "# Setup"
   ]
  },
  {
   "cell_type": "code",
   "execution_count": 1,
   "metadata": {},
   "outputs": [],
   "source": [
    "import _nb_utils\n",
    "%load_ext autoreload\n",
    "%autoreload 2"
   ]
  },
  {
   "cell_type": "code",
   "execution_count": 2,
   "metadata": {},
   "outputs": [],
   "source": [
    "import pandas as pd\n",
    "import seaborn as sns\n",
    "\n",
    "import os\n",
    "\n",
    "from prompter import *\n",
    "from data import *"
   ]
  },
  {
   "cell_type": "markdown",
   "metadata": {},
   "source": [
    "# Assessment"
   ]
  },
  {
   "cell_type": "code",
   "execution_count": 23,
   "metadata": {},
   "outputs": [],
   "source": [
    "exp_name = \"speed_test\""
   ]
  },
  {
   "cell_type": "code",
   "execution_count": 24,
   "metadata": {},
   "outputs": [
    {
     "data": {
      "text/plain": [
       "PosixPath('/home/olivieri/exp/my_data/by_model/LRASPP_MobileNet_V3/class-splitted/eval_prs/gemma3:12b-it-qat/speed_test')"
      ]
     },
     "execution_count": 24,
     "metadata": {},
     "output_type": "execute_result"
    }
   ],
   "source": [
    "exp_path = get_eval_prs_root_path(\"LRASPP_MobileNet_V3\", \"class-splitted\") / \"gemma3:12b-it-qat\" / exp_name\n",
    "exp_path"
   ]
  },
  {
   "cell_type": "code",
   "execution_count": 25,
   "metadata": {},
   "outputs": [
    {
     "data": {
      "text/plain": [
       "['SepMasks_Ovr_1fs']"
      ]
     },
     "execution_count": 25,
     "metadata": {},
     "output_type": "execute_result"
    }
   ],
   "source": [
    "[os.path.splitext(os.path.basename(path))[0] for path in glob(f\"{exp_path}/*.jsonl\")]"
   ]
  },
  {
   "cell_type": "code",
   "execution_count": 26,
   "metadata": {},
   "outputs": [
    {
     "data": {
      "text/plain": [
       "['SepMasks_Ovr_1fs']"
      ]
     },
     "execution_count": 26,
     "metadata": {},
     "output_type": "execute_result"
    }
   ],
   "source": [
    "var_names = [os.path.splitext(os.path.basename(path))[0] for path in glob(f\"{exp_path}/*.jsonl\")]\n",
    "var_names"
   ]
  },
  {
   "cell_type": "code",
   "execution_count": 27,
   "metadata": {},
   "outputs": [],
   "source": [
    "data_da = compute_results_da_class_splitted(exp_path)"
   ]
  },
  {
   "cell_type": "markdown",
   "metadata": {},
   "source": [
    "## Pred"
   ]
  },
  {
   "cell_type": "code",
   "execution_count": 28,
   "metadata": {},
   "outputs": [
    {
     "data": {
      "text/html": [
       "<div>\n",
       "<style scoped>\n",
       "    .dataframe tbody tr th:only-of-type {\n",
       "        vertical-align: middle;\n",
       "    }\n",
       "\n",
       "    .dataframe tbody tr th {\n",
       "        vertical-align: top;\n",
       "    }\n",
       "\n",
       "    .dataframe thead th {\n",
       "        text-align: right;\n",
       "    }\n",
       "</style>\n",
       "<table border=\"1\" class=\"dataframe\">\n",
       "  <thead>\n",
       "    <tr style=\"text-align: right;\">\n",
       "      <th>stat</th>\n",
       "      <th>mean</th>\n",
       "      <th>std</th>\n",
       "      <th>min</th>\n",
       "      <th>max</th>\n",
       "    </tr>\n",
       "    <tr>\n",
       "      <th>var</th>\n",
       "      <th></th>\n",
       "      <th></th>\n",
       "      <th></th>\n",
       "      <th></th>\n",
       "    </tr>\n",
       "  </thead>\n",
       "  <tbody>\n",
       "    <tr>\n",
       "      <th>SepMasks_Ovr_1fs</th>\n",
       "      <td>0.751266</td>\n",
       "      <td>0.359078</td>\n",
       "      <td>0.0</td>\n",
       "      <td>1.0</td>\n",
       "    </tr>\n",
       "  </tbody>\n",
       "</table>\n",
       "</div>"
      ],
      "text/plain": [
       "stat                  mean       std  min  max\n",
       "var                                           \n",
       "SepMasks_Ovr_1fs  0.751266  0.359078  0.0  1.0"
      ]
     },
     "metadata": {},
     "output_type": "display_data"
    },
    {
     "name": "stderr",
     "output_type": "stream",
     "text": [
      "/opt/conda/lib/python3.11/site-packages/numpy/lib/_nanfunctions_impl.py:2019: RuntimeWarning: Degrees of freedom <= 0 for slice.\n",
      "  var = nanvar(a, axis=axis, dtype=dtype, out=out, ddof=ddof,\n"
     ]
    },
    {
     "data": {
      "text/plain": [
       "stat\n",
       "mean    0.751266\n",
       "std          NaN\n",
       "min     0.751266\n",
       "max     0.751266\n",
       "dtype: float64"
      ]
     },
     "metadata": {},
     "output_type": "display_data"
    }
   ],
   "source": [
    "display(describe_da(data_da.sel(metric=\"pred\").mean(\"pos_class\"), dims_to_agg=[\"img_idx\"]))\n",
    "display(describe_da(data_da.sel(metric=\"pred\").mean(\"pos_class\").mean(\"img_idx\"), dims_to_agg=[\"var\"]))"
   ]
  },
  {
   "cell_type": "code",
   "execution_count": 27,
   "metadata": {},
   "outputs": [
    {
     "data": {
      "text/plain": [
       "<matplotlib.legend.Legend at 0x7f86304e3fd0>"
      ]
     },
     "execution_count": 27,
     "metadata": {},
     "output_type": "execute_result"
    },
    {
     "data": {
      "image/png": "[encoded data removed]",
      "text/plain": [
       "<Figure size 640x480 with 1 Axes>"
      ]
     },
     "metadata": {},
     "output_type": "display_data"
    }
   ],
   "source": [
    "[sns.histplot(data_da.sel(metric=\"pred\").mean(\"pos_class\").loc[var_n], bins=10, alpha=0.5, label=var_n)\n",
    " for var_n in var_names]\n",
    "plt.xlabel('Correctness')\n",
    "plt.ylabel('Count')\n",
    "plt.legend()"
   ]
  },
  {
   "cell_type": "markdown",
   "metadata": {},
   "source": [
    "## Score"
   ]
  },
  {
   "cell_type": "code",
   "execution_count": 28,
   "metadata": {},
   "outputs": [
    {
     "data": {
      "text/html": [
       "<div>\n",
       "<style scoped>\n",
       "    .dataframe tbody tr th:only-of-type {\n",
       "        vertical-align: middle;\n",
       "    }\n",
       "\n",
       "    .dataframe tbody tr th {\n",
       "        vertical-align: top;\n",
       "    }\n",
       "\n",
       "    .dataframe thead th {\n",
       "        text-align: right;\n",
       "    }\n",
       "</style>\n",
       "<table border=\"1\" class=\"dataframe\">\n",
       "  <thead>\n",
       "    <tr style=\"text-align: right;\">\n",
       "      <th>stat</th>\n",
       "      <th>mean</th>\n",
       "      <th>std</th>\n",
       "      <th>min</th>\n",
       "      <th>max</th>\n",
       "    </tr>\n",
       "    <tr>\n",
       "      <th>var</th>\n",
       "      <th></th>\n",
       "      <th></th>\n",
       "      <th></th>\n",
       "      <th></th>\n",
       "    </tr>\n",
       "  </thead>\n",
       "  <tbody>\n",
       "    <tr>\n",
       "      <th>alpha_0.50</th>\n",
       "      <td>3.133966</td>\n",
       "      <td>1.254083</td>\n",
       "      <td>0.333333</td>\n",
       "      <td>5.0</td>\n",
       "    </tr>\n",
       "    <tr>\n",
       "      <th>alpha_0.55</th>\n",
       "      <td>3.297046</td>\n",
       "      <td>1.117077</td>\n",
       "      <td>1.000000</td>\n",
       "      <td>5.0</td>\n",
       "    </tr>\n",
       "    <tr>\n",
       "      <th>alpha_0.60</th>\n",
       "      <td>3.283755</td>\n",
       "      <td>1.249111</td>\n",
       "      <td>0.666667</td>\n",
       "      <td>5.0</td>\n",
       "    </tr>\n",
       "    <tr>\n",
       "      <th>alpha_0.65</th>\n",
       "      <td>3.253797</td>\n",
       "      <td>1.214158</td>\n",
       "      <td>0.666667</td>\n",
       "      <td>5.0</td>\n",
       "    </tr>\n",
       "    <tr>\n",
       "      <th>alpha_0.70</th>\n",
       "      <td>3.329958</td>\n",
       "      <td>1.174065</td>\n",
       "      <td>1.000000</td>\n",
       "      <td>5.0</td>\n",
       "    </tr>\n",
       "    <tr>\n",
       "      <th>alpha_0.75</th>\n",
       "      <td>3.542616</td>\n",
       "      <td>1.188677</td>\n",
       "      <td>1.000000</td>\n",
       "      <td>5.0</td>\n",
       "    </tr>\n",
       "    <tr>\n",
       "      <th>alpha_0.80</th>\n",
       "      <td>3.300633</td>\n",
       "      <td>1.266516</td>\n",
       "      <td>0.500000</td>\n",
       "      <td>5.0</td>\n",
       "    </tr>\n",
       "  </tbody>\n",
       "</table>\n",
       "</div>"
      ],
      "text/plain": [
       "stat            mean       std       min  max\n",
       "var                                          \n",
       "alpha_0.50  3.133966  1.254083  0.333333  5.0\n",
       "alpha_0.55  3.297046  1.117077  1.000000  5.0\n",
       "alpha_0.60  3.283755  1.249111  0.666667  5.0\n",
       "alpha_0.65  3.253797  1.214158  0.666667  5.0\n",
       "alpha_0.70  3.329958  1.174065  1.000000  5.0\n",
       "alpha_0.75  3.542616  1.188677  1.000000  5.0\n",
       "alpha_0.80  3.300633  1.266516  0.500000  5.0"
      ]
     },
     "metadata": {},
     "output_type": "display_data"
    },
    {
     "data": {
      "text/plain": [
       "stat\n",
       "mean    3.305967\n",
       "std     0.122124\n",
       "min     3.133966\n",
       "max     3.542616\n",
       "dtype: float64"
      ]
     },
     "metadata": {},
     "output_type": "display_data"
    }
   ],
   "source": [
    "display(describe_da(data_da.sel(metric=\"score\").mean(\"pos_class\"), dims_to_agg=[\"img_idx\"]))\n",
    "display(describe_da(data_da.sel(metric=\"score\").mean(\"pos_class\").mean(\"img_idx\"), dims_to_agg=[\"var\"]))"
   ]
  },
  {
   "cell_type": "code",
   "execution_count": 29,
   "metadata": {},
   "outputs": [
    {
     "data": {
      "text/plain": [
       "<matplotlib.legend.Legend at 0x7f863eb34f10>"
      ]
     },
     "execution_count": 29,
     "metadata": {},
     "output_type": "execute_result"
    },
    {
     "data": {
      "image/png": "[encoded data removed]",
      "text/plain": [
       "<Figure size 640x480 with 1 Axes>"
      ]
     },
     "metadata": {},
     "output_type": "display_data"
    }
   ],
   "source": [
    "[sns.histplot(data_da.sel(metric=\"score\").mean(\"pos_class\").loc[var_n], bins=10, alpha=0.5, label=var_n)\n",
    " for var_n in var_names]\n",
    "plt.xlabel('Correctness')\n",
    "plt.ylabel('Count')\n",
    "plt.legend()"
   ]
  },
  {
   "cell_type": "markdown",
   "metadata": {},
   "source": [
    "## Per-Class"
   ]
  },
  {
   "cell_type": "code",
   "execution_count": 30,
   "metadata": {},
   "outputs": [
    {
     "name": "stderr",
     "output_type": "stream",
     "text": [
      "/home/olivieri/.local/lib/python3.11/site-packages/xarray/computation/nanops.py:118: RuntimeWarning: invalid value encountered in divide\n",
      "  data = data / (valid_count - ddof)\n",
      "/opt/conda/lib/python3.11/site-packages/numpy/lib/_nanfunctions_impl.py:2019: RuntimeWarning: Degrees of freedom <= 0 for slice.\n",
      "  var = nanvar(a, axis=axis, dtype=dtype, out=out, ddof=ddof,\n"
     ]
    },
    {
     "data": {
      "text/html": [
       "<div>\n",
       "<style scoped>\n",
       "    .dataframe tbody tr th:only-of-type {\n",
       "        vertical-align: middle;\n",
       "    }\n",
       "\n",
       "    .dataframe tbody tr th {\n",
       "        vertical-align: top;\n",
       "    }\n",
       "\n",
       "    .dataframe thead th {\n",
       "        text-align: right;\n",
       "    }\n",
       "</style>\n",
       "<table border=\"1\" class=\"dataframe\">\n",
       "  <thead>\n",
       "    <tr style=\"text-align: right;\">\n",
       "      <th>stat</th>\n",
       "      <th>mean</th>\n",
       "      <th>std</th>\n",
       "      <th>min</th>\n",
       "      <th>max</th>\n",
       "    </tr>\n",
       "    <tr>\n",
       "      <th>pos_class</th>\n",
       "      <th></th>\n",
       "      <th></th>\n",
       "      <th></th>\n",
       "      <th></th>\n",
       "    </tr>\n",
       "  </thead>\n",
       "  <tbody>\n",
       "    <tr>\n",
       "      <th>0</th>\n",
       "      <td>NaN</td>\n",
       "      <td>NaN</td>\n",
       "      <td>NaN</td>\n",
       "      <td>NaN</td>\n",
       "    </tr>\n",
       "    <tr>\n",
       "      <th>1</th>\n",
       "      <td>0.761905</td>\n",
       "      <td>0.188982</td>\n",
       "      <td>0.500000</td>\n",
       "      <td>1.000000</td>\n",
       "    </tr>\n",
       "    <tr>\n",
       "      <th>2</th>\n",
       "      <td>1.000000</td>\n",
       "      <td>0.000000</td>\n",
       "      <td>1.000000</td>\n",
       "      <td>1.000000</td>\n",
       "    </tr>\n",
       "    <tr>\n",
       "      <th>3</th>\n",
       "      <td>0.285714</td>\n",
       "      <td>0.267261</td>\n",
       "      <td>0.000000</td>\n",
       "      <td>0.500000</td>\n",
       "    </tr>\n",
       "    <tr>\n",
       "      <th>4</th>\n",
       "      <td>0.714286</td>\n",
       "      <td>0.081325</td>\n",
       "      <td>0.666667</td>\n",
       "      <td>0.833333</td>\n",
       "    </tr>\n",
       "    <tr>\n",
       "      <th>5</th>\n",
       "      <td>0.714286</td>\n",
       "      <td>0.185450</td>\n",
       "      <td>0.500000</td>\n",
       "      <td>1.000000</td>\n",
       "    </tr>\n",
       "    <tr>\n",
       "      <th>6</th>\n",
       "      <td>0.857143</td>\n",
       "      <td>0.178174</td>\n",
       "      <td>0.666667</td>\n",
       "      <td>1.000000</td>\n",
       "    </tr>\n",
       "    <tr>\n",
       "      <th>7</th>\n",
       "      <td>0.500000</td>\n",
       "      <td>0.288675</td>\n",
       "      <td>0.000000</td>\n",
       "      <td>1.000000</td>\n",
       "    </tr>\n",
       "    <tr>\n",
       "      <th>8</th>\n",
       "      <td>0.698413</td>\n",
       "      <td>0.153348</td>\n",
       "      <td>0.444444</td>\n",
       "      <td>0.888889</td>\n",
       "    </tr>\n",
       "    <tr>\n",
       "      <th>9</th>\n",
       "      <td>0.659341</td>\n",
       "      <td>0.087223</td>\n",
       "      <td>0.538462</td>\n",
       "      <td>0.769231</td>\n",
       "    </tr>\n",
       "    <tr>\n",
       "      <th>10</th>\n",
       "      <td>0.571429</td>\n",
       "      <td>0.082479</td>\n",
       "      <td>0.428571</td>\n",
       "      <td>0.714286</td>\n",
       "    </tr>\n",
       "    <tr>\n",
       "      <th>11</th>\n",
       "      <td>0.619048</td>\n",
       "      <td>0.125988</td>\n",
       "      <td>0.444444</td>\n",
       "      <td>0.777778</td>\n",
       "    </tr>\n",
       "    <tr>\n",
       "      <th>12</th>\n",
       "      <td>0.500000</td>\n",
       "      <td>0.057735</td>\n",
       "      <td>0.400000</td>\n",
       "      <td>0.600000</td>\n",
       "    </tr>\n",
       "    <tr>\n",
       "      <th>13</th>\n",
       "      <td>0.619048</td>\n",
       "      <td>0.125988</td>\n",
       "      <td>0.500000</td>\n",
       "      <td>0.833333</td>\n",
       "    </tr>\n",
       "    <tr>\n",
       "      <th>14</th>\n",
       "      <td>0.785714</td>\n",
       "      <td>0.172516</td>\n",
       "      <td>0.500000</td>\n",
       "      <td>1.000000</td>\n",
       "    </tr>\n",
       "    <tr>\n",
       "      <th>15</th>\n",
       "      <td>0.742857</td>\n",
       "      <td>0.059982</td>\n",
       "      <td>0.700000</td>\n",
       "      <td>0.866667</td>\n",
       "    </tr>\n",
       "    <tr>\n",
       "      <th>16</th>\n",
       "      <td>0.107143</td>\n",
       "      <td>0.133631</td>\n",
       "      <td>0.000000</td>\n",
       "      <td>0.250000</td>\n",
       "    </tr>\n",
       "    <tr>\n",
       "      <th>17</th>\n",
       "      <td>0.500000</td>\n",
       "      <td>0.096225</td>\n",
       "      <td>0.333333</td>\n",
       "      <td>0.666667</td>\n",
       "    </tr>\n",
       "    <tr>\n",
       "      <th>18</th>\n",
       "      <td>0.673469</td>\n",
       "      <td>0.135884</td>\n",
       "      <td>0.428571</td>\n",
       "      <td>0.857143</td>\n",
       "    </tr>\n",
       "    <tr>\n",
       "      <th>19</th>\n",
       "      <td>0.642857</td>\n",
       "      <td>0.149956</td>\n",
       "      <td>0.500000</td>\n",
       "      <td>0.833333</td>\n",
       "    </tr>\n",
       "    <tr>\n",
       "      <th>20</th>\n",
       "      <td>0.952381</td>\n",
       "      <td>0.081325</td>\n",
       "      <td>0.833333</td>\n",
       "      <td>1.000000</td>\n",
       "    </tr>\n",
       "  </tbody>\n",
       "</table>\n",
       "</div>"
      ],
      "text/plain": [
       "stat           mean       std       min       max\n",
       "pos_class                                        \n",
       "0               NaN       NaN       NaN       NaN\n",
       "1          0.761905  0.188982  0.500000  1.000000\n",
       "2          1.000000  0.000000  1.000000  1.000000\n",
       "3          0.285714  0.267261  0.000000  0.500000\n",
       "4          0.714286  0.081325  0.666667  0.833333\n",
       "5          0.714286  0.185450  0.500000  1.000000\n",
       "6          0.857143  0.178174  0.666667  1.000000\n",
       "7          0.500000  0.288675  0.000000  1.000000\n",
       "8          0.698413  0.153348  0.444444  0.888889\n",
       "9          0.659341  0.087223  0.538462  0.769231\n",
       "10         0.571429  0.082479  0.428571  0.714286\n",
       "11         0.619048  0.125988  0.444444  0.777778\n",
       "12         0.500000  0.057735  0.400000  0.600000\n",
       "13         0.619048  0.125988  0.500000  0.833333\n",
       "14         0.785714  0.172516  0.500000  1.000000\n",
       "15         0.742857  0.059982  0.700000  0.866667\n",
       "16         0.107143  0.133631  0.000000  0.250000\n",
       "17         0.500000  0.096225  0.333333  0.666667\n",
       "18         0.673469  0.135884  0.428571  0.857143\n",
       "19         0.642857  0.149956  0.500000  0.833333\n",
       "20         0.952381  0.081325  0.833333  1.000000"
      ]
     },
     "metadata": {},
     "output_type": "display_data"
    }
   ],
   "source": [
    "display(describe_da(data_da.sel(metric=\"pred\").mean(\"img_idx\"), dims_to_agg=[\"var\"]))"
   ]
  },
  {
   "cell_type": "code",
   "execution_count": 31,
   "metadata": {},
   "outputs": [],
   "source": [
    "shape = len(data_da.coords[\"img_idx\"]), len(data_da.coords[\"pos_class\"])\n",
    "table = xr.DataArray(np.empty(shape, dtype=object), coords=[data_da.coords[\"img_idx\"], data_da.coords[\"pos_class\"]]) # shape (n_imgs, n_pos_classes)\n",
    "\n",
    "for img_idx in table.coords[\"img_idx\"].values:\n",
    "    significant_classes_gt = get_significant_classes(GTS_PATH / (image_UIDs[img_idx] + \".png\"), 224, CLASS_MAP)\n",
    "    for c in significant_classes_gt:\n",
    "        if table.loc[img_idx, c] == None:\n",
    "            table.loc[img_idx, c] = 1\n",
    "class_counts = table.sum(\"img_idx\")"
   ]
  },
  {
   "cell_type": "code",
   "execution_count": 32,
   "metadata": {},
   "outputs": [
    {
     "name": "stderr",
     "output_type": "stream",
     "text": [
      "/opt/conda/lib/python3.11/site-packages/numpy/lib/_nanfunctions_impl.py:2019: RuntimeWarning: Degrees of freedom <= 0 for slice.\n",
      "  var = nanvar(a, axis=axis, dtype=dtype, out=out, ddof=ddof,\n"
     ]
    },
    {
     "data": {
      "image/png": "[encoded data removed]",
      "text/plain": [
       "<Figure size 640x480 with 1 Axes>"
      ]
     },
     "metadata": {},
     "output_type": "display_data"
    }
   ],
   "source": [
    "mean = data_da.sel(metric=\"pred\").astype(float).mean([\"img_idx\", \"var\"])\n",
    "std = data_da.sel(metric=\"pred\").astype(float).std([\"img_idx\", \"var\"])\n",
    "plt.bar([f\"{CLASSES[i]}, # {int(class_counts[i])}\" for i in mean.coords[\"pos_class\"].values], mean, yerr=std, capsize=5, alpha=0.9)\n",
    "plt.tick_params(axis='x', which='both', top=True)\n",
    "top_ax = plt.gca().secondary_xaxis('top')\n",
    "top_ax.set_xticks(range(len(mean.coords[\"pos_class\"])))\n",
    "top_ax.set_xticklabels(mean.coords[\"pos_class\"].values)\n",
    "plt.ylim(bottom=0)\n",
    "plt.xticks(rotation=90)\n",
    "plt.show()"
   ]
  }
 ],
 "metadata": {
  "colab": {
   "provenance": [
    {
     "file_id": "/v2/external/notebooks/empty.ipynb",
     "timestamp": 1742717556086
    }
   ]
  },
  "kernelspec": {
   "display_name": "base",
   "language": "python",
   "name": "python3"
  },
  "language_info": {
   "codemirror_mode": {
    "name": "ipython",
    "version": 3
   },
   "file_extension": ".py",
   "mimetype": "text/x-python",
   "name": "python",
   "nbconvert_exporter": "python",
   "pygments_lexer": "ipython3",
   "version": "3.11.13"
  }
 },
 "nbformat": 4,
 "nbformat_minor": 0
}
