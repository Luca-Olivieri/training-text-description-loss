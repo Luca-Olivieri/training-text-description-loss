{
 "cells": [
  {
   "cell_type": "markdown",
   "metadata": {},
   "source": [
    "# Setup"
   ]
  },
  {
   "cell_type": "code",
   "execution_count": 21,
   "metadata": {},
   "outputs": [
    {
     "name": "stdout",
     "output_type": "stream",
     "text": [
      "The autoreload extension is already loaded. To reload it, use:\n",
      "  %reload_ext autoreload\n"
     ]
    }
   ],
   "source": [
    "%load_ext autoreload\n",
    "%autoreload 2"
   ]
  },
  {
   "cell_type": "code",
   "execution_count": 22,
   "metadata": {},
   "outputs": [],
   "source": [
    "from config import *\n",
    "from path import get_eval_prs_root_path, GTS_PATH\n",
    "from data import describe_da, compute_results_da_class_splitted\n",
    "\n",
    "import matplotlib.pyplot as plt\n",
    "import seaborn as sns\n",
    "import os\n",
    "from glob import glob\n",
    "import xarray as xr"
   ]
  },
  {
   "cell_type": "markdown",
   "metadata": {},
   "source": [
    "# Assessment"
   ]
  },
  {
   "cell_type": "code",
   "execution_count": 23,
   "metadata": {},
   "outputs": [],
   "source": [
    "exp_name = \"temps\""
   ]
  },
  {
   "cell_type": "code",
   "execution_count": 24,
   "metadata": {},
   "outputs": [
    {
     "data": {
      "text/plain": [
       "PosixPath('/home/olivieri/exp/data/prompts_data/by_model/LRASPP_MobileNet_V3/class-splitted/eval_prs/gemma3:12b-it-qat/temps')"
      ]
     },
     "execution_count": 24,
     "metadata": {},
     "output_type": "execute_result"
    }
   ],
   "source": [
    "exp_path = get_eval_prs_root_path(\"LRASPP_MobileNet_V3\", \"class-splitted\") / \"gemma3:12b-it-qat\" / exp_name\n",
    "exp_path"
   ]
  },
  {
   "cell_type": "code",
   "execution_count": 25,
   "metadata": {},
   "outputs": [
    {
     "data": {
      "text/plain": [
       "['temp_1.0', 'temp_0.7', 'temp_0.5', 'temp_0.3']"
      ]
     },
     "execution_count": 25,
     "metadata": {},
     "output_type": "execute_result"
    }
   ],
   "source": [
    "var_names = [os.path.splitext(os.path.basename(path))[0] for path in glob(f\"{exp_path}/*.jsonl\")]\n",
    "var_names"
   ]
  },
  {
   "cell_type": "code",
   "execution_count": 26,
   "metadata": {},
   "outputs": [],
   "source": [
    "data_da = compute_results_da_class_splitted(exp_path, 21)"
   ]
  },
  {
   "cell_type": "markdown",
   "metadata": {},
   "source": [
    "## Pred"
   ]
  },
  {
   "cell_type": "code",
   "execution_count": 27,
   "metadata": {},
   "outputs": [
    {
     "data": {
      "text/html": [
       "<div>\n",
       "<style scoped>\n",
       "    .dataframe tbody tr th:only-of-type {\n",
       "        vertical-align: middle;\n",
       "    }\n",
       "\n",
       "    .dataframe tbody tr th {\n",
       "        vertical-align: top;\n",
       "    }\n",
       "\n",
       "    .dataframe thead th {\n",
       "        text-align: right;\n",
       "    }\n",
       "</style>\n",
       "<table border=\"1\" class=\"dataframe\">\n",
       "  <thead>\n",
       "    <tr style=\"text-align: right;\">\n",
       "      <th>stat</th>\n",
       "      <th>mean</th>\n",
       "      <th>std</th>\n",
       "      <th>min</th>\n",
       "      <th>max</th>\n",
       "    </tr>\n",
       "    <tr>\n",
       "      <th>var</th>\n",
       "      <th></th>\n",
       "      <th></th>\n",
       "      <th></th>\n",
       "      <th></th>\n",
       "    </tr>\n",
       "  </thead>\n",
       "  <tbody>\n",
       "    <tr>\n",
       "      <th>temp_0.3</th>\n",
       "      <td>0.672152</td>\n",
       "      <td>0.409370</td>\n",
       "      <td>0.0</td>\n",
       "      <td>1.0</td>\n",
       "    </tr>\n",
       "    <tr>\n",
       "      <th>temp_0.5</th>\n",
       "      <td>0.658439</td>\n",
       "      <td>0.385925</td>\n",
       "      <td>0.0</td>\n",
       "      <td>1.0</td>\n",
       "    </tr>\n",
       "    <tr>\n",
       "      <th>temp_0.7</th>\n",
       "      <td>0.676371</td>\n",
       "      <td>0.388305</td>\n",
       "      <td>0.0</td>\n",
       "      <td>1.0</td>\n",
       "    </tr>\n",
       "    <tr>\n",
       "      <th>temp_1.0</th>\n",
       "      <td>0.620042</td>\n",
       "      <td>0.418427</td>\n",
       "      <td>0.0</td>\n",
       "      <td>1.0</td>\n",
       "    </tr>\n",
       "  </tbody>\n",
       "</table>\n",
       "</div>"
      ],
      "text/plain": [
       "stat          mean       std  min  max\n",
       "var                                   \n",
       "temp_0.3  0.672152  0.409370  0.0  1.0\n",
       "temp_0.5  0.658439  0.385925  0.0  1.0\n",
       "temp_0.7  0.676371  0.388305  0.0  1.0\n",
       "temp_1.0  0.620042  0.418427  0.0  1.0"
      ]
     },
     "metadata": {},
     "output_type": "display_data"
    },
    {
     "data": {
      "text/plain": [
       "stat\n",
       "mean    0.656751\n",
       "std     0.025642\n",
       "min     0.620042\n",
       "max     0.676371\n",
       "dtype: float64"
      ]
     },
     "metadata": {},
     "output_type": "display_data"
    }
   ],
   "source": [
    "display(describe_da(data_da.sel(metric=\"pred\").mean(\"pos_class\"), dims_to_agg=[\"img_idx\"]))\n",
    "display(describe_da(data_da.sel(metric=\"pred\").mean(\"pos_class\").mean(\"img_idx\"), dims_to_agg=[\"var\"]))"
   ]
  },
  {
   "cell_type": "code",
   "execution_count": 28,
   "metadata": {},
   "outputs": [
    {
     "data": {
      "text/plain": [
       "<matplotlib.legend.Legend at 0x7fc3ff86abd0>"
      ]
     },
     "execution_count": 28,
     "metadata": {},
     "output_type": "execute_result"
    },
    {
     "data": {
      "image/png": "[encoded data removed]",
      "text/plain": [
       "<Figure size 640x480 with 1 Axes>"
      ]
     },
     "metadata": {},
     "output_type": "display_data"
    }
   ],
   "source": [
    "[sns.histplot(data_da.sel(metric=\"pred\").mean(\"pos_class\").loc[var_n], bins=10, alpha=0.5, label=var_n)\n",
    " for var_n in var_names]\n",
    "plt.xlabel('Correctness')\n",
    "plt.ylabel('Count')\n",
    "plt.legend()"
   ]
  },
  {
   "cell_type": "markdown",
   "metadata": {},
   "source": [
    "## Score"
   ]
  },
  {
   "cell_type": "code",
   "execution_count": 29,
   "metadata": {},
   "outputs": [
    {
     "data": {
      "text/html": [
       "<div>\n",
       "<style scoped>\n",
       "    .dataframe tbody tr th:only-of-type {\n",
       "        vertical-align: middle;\n",
       "    }\n",
       "\n",
       "    .dataframe tbody tr th {\n",
       "        vertical-align: top;\n",
       "    }\n",
       "\n",
       "    .dataframe thead th {\n",
       "        text-align: right;\n",
       "    }\n",
       "</style>\n",
       "<table border=\"1\" class=\"dataframe\">\n",
       "  <thead>\n",
       "    <tr style=\"text-align: right;\">\n",
       "      <th>stat</th>\n",
       "      <th>mean</th>\n",
       "      <th>std</th>\n",
       "      <th>min</th>\n",
       "      <th>max</th>\n",
       "    </tr>\n",
       "    <tr>\n",
       "      <th>var</th>\n",
       "      <th></th>\n",
       "      <th></th>\n",
       "      <th></th>\n",
       "      <th></th>\n",
       "    </tr>\n",
       "  </thead>\n",
       "  <tbody>\n",
       "    <tr>\n",
       "      <th>temp_0.3</th>\n",
       "      <td>3.402321</td>\n",
       "      <td>1.275921</td>\n",
       "      <td>0.666667</td>\n",
       "      <td>5.0</td>\n",
       "    </tr>\n",
       "    <tr>\n",
       "      <th>temp_0.5</th>\n",
       "      <td>3.330169</td>\n",
       "      <td>1.141396</td>\n",
       "      <td>0.666667</td>\n",
       "      <td>5.0</td>\n",
       "    </tr>\n",
       "    <tr>\n",
       "      <th>temp_0.7</th>\n",
       "      <td>3.421308</td>\n",
       "      <td>1.236664</td>\n",
       "      <td>0.333333</td>\n",
       "      <td>5.0</td>\n",
       "    </tr>\n",
       "    <tr>\n",
       "      <th>temp_1.0</th>\n",
       "      <td>3.172363</td>\n",
       "      <td>1.303663</td>\n",
       "      <td>0.500000</td>\n",
       "      <td>5.0</td>\n",
       "    </tr>\n",
       "  </tbody>\n",
       "</table>\n",
       "</div>"
      ],
      "text/plain": [
       "stat          mean       std       min  max\n",
       "var                                        \n",
       "temp_0.3  3.402321  1.275921  0.666667  5.0\n",
       "temp_0.5  3.330169  1.141396  0.666667  5.0\n",
       "temp_0.7  3.421308  1.236664  0.333333  5.0\n",
       "temp_1.0  3.172363  1.303663  0.500000  5.0"
      ]
     },
     "metadata": {},
     "output_type": "display_data"
    },
    {
     "data": {
      "text/plain": [
       "stat\n",
       "mean    3.331540\n",
       "std     0.113148\n",
       "min     3.172363\n",
       "max     3.421308\n",
       "dtype: float64"
      ]
     },
     "metadata": {},
     "output_type": "display_data"
    }
   ],
   "source": [
    "display(describe_da(data_da.sel(metric=\"score\").mean(\"pos_class\"), dims_to_agg=[\"img_idx\"]))\n",
    "display(describe_da(data_da.sel(metric=\"score\").mean(\"pos_class\").mean(\"img_idx\"), dims_to_agg=[\"var\"]))"
   ]
  },
  {
   "cell_type": "code",
   "execution_count": 30,
   "metadata": {},
   "outputs": [
    {
     "data": {
      "text/plain": [
       "<matplotlib.legend.Legend at 0x7fc3f4b44790>"
      ]
     },
     "execution_count": 30,
     "metadata": {},
     "output_type": "execute_result"
    },
    {
     "data": {
      "image/png": "[encoded data removed]",
      "text/plain": [
       "<Figure size 640x480 with 1 Axes>"
      ]
     },
     "metadata": {},
     "output_type": "display_data"
    }
   ],
   "source": [
    "[sns.histplot(data_da.sel(metric=\"score\").mean(\"pos_class\").loc[var_n], bins=10, alpha=0.5, label=var_n)\n",
    " for var_n in var_names]\n",
    "plt.xlabel('Correctness')\n",
    "plt.ylabel('Count')\n",
    "plt.legend()"
   ]
  },
  {
   "cell_type": "markdown",
   "metadata": {},
   "source": [
    "## Per-Class"
   ]
  },
  {
   "cell_type": "code",
   "execution_count": 31,
   "metadata": {},
   "outputs": [
    {
     "name": "stderr",
     "output_type": "stream",
     "text": [
      "/home/olivieri/.local/lib/python3.11/site-packages/xarray/computation/nanops.py:118: RuntimeWarning: invalid value encountered in divide\n",
      "  data = data / (valid_count - ddof)\n",
      "/opt/conda/lib/python3.11/site-packages/numpy/lib/_nanfunctions_impl.py:2019: RuntimeWarning: Degrees of freedom <= 0 for slice.\n",
      "  var = nanvar(a, axis=axis, dtype=dtype, out=out, ddof=ddof,\n"
     ]
    },
    {
     "data": {
      "text/html": [
       "<div>\n",
       "<style scoped>\n",
       "    .dataframe tbody tr th:only-of-type {\n",
       "        vertical-align: middle;\n",
       "    }\n",
       "\n",
       "    .dataframe tbody tr th {\n",
       "        vertical-align: top;\n",
       "    }\n",
       "\n",
       "    .dataframe thead th {\n",
       "        text-align: right;\n",
       "    }\n",
       "</style>\n",
       "<table border=\"1\" class=\"dataframe\">\n",
       "  <thead>\n",
       "    <tr style=\"text-align: right;\">\n",
       "      <th>stat</th>\n",
       "      <th>mean</th>\n",
       "      <th>std</th>\n",
       "      <th>min</th>\n",
       "      <th>max</th>\n",
       "    </tr>\n",
       "    <tr>\n",
       "      <th>pos_class</th>\n",
       "      <th></th>\n",
       "      <th></th>\n",
       "      <th></th>\n",
       "      <th></th>\n",
       "    </tr>\n",
       "  </thead>\n",
       "  <tbody>\n",
       "    <tr>\n",
       "      <th>0</th>\n",
       "      <td>NaN</td>\n",
       "      <td>NaN</td>\n",
       "      <td>NaN</td>\n",
       "      <td>NaN</td>\n",
       "    </tr>\n",
       "    <tr>\n",
       "      <th>1</th>\n",
       "      <td>0.833333</td>\n",
       "      <td>0.192450</td>\n",
       "      <td>0.666667</td>\n",
       "      <td>1.000000</td>\n",
       "    </tr>\n",
       "    <tr>\n",
       "      <th>2</th>\n",
       "      <td>0.583333</td>\n",
       "      <td>0.166667</td>\n",
       "      <td>0.333333</td>\n",
       "      <td>0.666667</td>\n",
       "    </tr>\n",
       "    <tr>\n",
       "      <th>3</th>\n",
       "      <td>0.375000</td>\n",
       "      <td>0.478714</td>\n",
       "      <td>0.000000</td>\n",
       "      <td>1.000000</td>\n",
       "    </tr>\n",
       "    <tr>\n",
       "      <th>4</th>\n",
       "      <td>0.666667</td>\n",
       "      <td>0.136083</td>\n",
       "      <td>0.500000</td>\n",
       "      <td>0.833333</td>\n",
       "    </tr>\n",
       "    <tr>\n",
       "      <th>5</th>\n",
       "      <td>0.750000</td>\n",
       "      <td>0.215166</td>\n",
       "      <td>0.500000</td>\n",
       "      <td>1.000000</td>\n",
       "    </tr>\n",
       "    <tr>\n",
       "      <th>6</th>\n",
       "      <td>0.833333</td>\n",
       "      <td>0.192450</td>\n",
       "      <td>0.666667</td>\n",
       "      <td>1.000000</td>\n",
       "    </tr>\n",
       "    <tr>\n",
       "      <th>7</th>\n",
       "      <td>0.625000</td>\n",
       "      <td>0.250000</td>\n",
       "      <td>0.500000</td>\n",
       "      <td>1.000000</td>\n",
       "    </tr>\n",
       "    <tr>\n",
       "      <th>8</th>\n",
       "      <td>0.638889</td>\n",
       "      <td>0.139812</td>\n",
       "      <td>0.444444</td>\n",
       "      <td>0.777778</td>\n",
       "    </tr>\n",
       "    <tr>\n",
       "      <th>9</th>\n",
       "      <td>0.634615</td>\n",
       "      <td>0.096793</td>\n",
       "      <td>0.538462</td>\n",
       "      <td>0.769231</td>\n",
       "    </tr>\n",
       "    <tr>\n",
       "      <th>10</th>\n",
       "      <td>0.500000</td>\n",
       "      <td>0.082479</td>\n",
       "      <td>0.428571</td>\n",
       "      <td>0.571429</td>\n",
       "    </tr>\n",
       "    <tr>\n",
       "      <th>11</th>\n",
       "      <td>0.583333</td>\n",
       "      <td>0.139812</td>\n",
       "      <td>0.444444</td>\n",
       "      <td>0.777778</td>\n",
       "    </tr>\n",
       "    <tr>\n",
       "      <th>12</th>\n",
       "      <td>0.450000</td>\n",
       "      <td>0.057735</td>\n",
       "      <td>0.400000</td>\n",
       "      <td>0.500000</td>\n",
       "    </tr>\n",
       "    <tr>\n",
       "      <th>13</th>\n",
       "      <td>0.541667</td>\n",
       "      <td>0.159571</td>\n",
       "      <td>0.333333</td>\n",
       "      <td>0.666667</td>\n",
       "    </tr>\n",
       "    <tr>\n",
       "      <th>14</th>\n",
       "      <td>0.812500</td>\n",
       "      <td>0.125000</td>\n",
       "      <td>0.750000</td>\n",
       "      <td>1.000000</td>\n",
       "    </tr>\n",
       "    <tr>\n",
       "      <th>15</th>\n",
       "      <td>0.701613</td>\n",
       "      <td>0.076223</td>\n",
       "      <td>0.645161</td>\n",
       "      <td>0.806452</td>\n",
       "    </tr>\n",
       "    <tr>\n",
       "      <th>16</th>\n",
       "      <td>0.125000</td>\n",
       "      <td>0.144338</td>\n",
       "      <td>0.000000</td>\n",
       "      <td>0.250000</td>\n",
       "    </tr>\n",
       "    <tr>\n",
       "      <th>17</th>\n",
       "      <td>0.541667</td>\n",
       "      <td>0.159571</td>\n",
       "      <td>0.333333</td>\n",
       "      <td>0.666667</td>\n",
       "    </tr>\n",
       "    <tr>\n",
       "      <th>18</th>\n",
       "      <td>0.571429</td>\n",
       "      <td>0.116642</td>\n",
       "      <td>0.428571</td>\n",
       "      <td>0.714286</td>\n",
       "    </tr>\n",
       "    <tr>\n",
       "      <th>19</th>\n",
       "      <td>0.625000</td>\n",
       "      <td>0.284638</td>\n",
       "      <td>0.333333</td>\n",
       "      <td>1.000000</td>\n",
       "    </tr>\n",
       "    <tr>\n",
       "      <th>20</th>\n",
       "      <td>0.833333</td>\n",
       "      <td>0.136083</td>\n",
       "      <td>0.666667</td>\n",
       "      <td>1.000000</td>\n",
       "    </tr>\n",
       "  </tbody>\n",
       "</table>\n",
       "</div>"
      ],
      "text/plain": [
       "stat           mean       std       min       max\n",
       "pos_class                                        \n",
       "0               NaN       NaN       NaN       NaN\n",
       "1          0.833333  0.192450  0.666667  1.000000\n",
       "2          0.583333  0.166667  0.333333  0.666667\n",
       "3          0.375000  0.478714  0.000000  1.000000\n",
       "4          0.666667  0.136083  0.500000  0.833333\n",
       "5          0.750000  0.215166  0.500000  1.000000\n",
       "6          0.833333  0.192450  0.666667  1.000000\n",
       "7          0.625000  0.250000  0.500000  1.000000\n",
       "8          0.638889  0.139812  0.444444  0.777778\n",
       "9          0.634615  0.096793  0.538462  0.769231\n",
       "10         0.500000  0.082479  0.428571  0.571429\n",
       "11         0.583333  0.139812  0.444444  0.777778\n",
       "12         0.450000  0.057735  0.400000  0.500000\n",
       "13         0.541667  0.159571  0.333333  0.666667\n",
       "14         0.812500  0.125000  0.750000  1.000000\n",
       "15         0.701613  0.076223  0.645161  0.806452\n",
       "16         0.125000  0.144338  0.000000  0.250000\n",
       "17         0.541667  0.159571  0.333333  0.666667\n",
       "18         0.571429  0.116642  0.428571  0.714286\n",
       "19         0.625000  0.284638  0.333333  1.000000\n",
       "20         0.833333  0.136083  0.666667  1.000000"
      ]
     },
     "metadata": {},
     "output_type": "display_data"
    }
   ],
   "source": [
    "display(describe_da(data_da.sel(metric=\"pred\").mean(\"img_idx\"), dims_to_agg=[\"var\"]))"
   ]
  },
  {
   "cell_type": "code",
   "execution_count": 32,
   "metadata": {},
   "outputs": [
    {
     "ename": "NameError",
     "evalue": "name 'get_significant_classes' is not defined",
     "output_type": "error",
     "traceback": [
      "\u001b[31m---------------------------------------------------------------------------\u001b[39m",
      "\u001b[31mNameError\u001b[39m                                 Traceback (most recent call last)",
      "\u001b[36mCell\u001b[39m\u001b[36m \u001b[39m\u001b[32mIn[32]\u001b[39m\u001b[32m, line 5\u001b[39m\n\u001b[32m      2\u001b[39m table = xr.DataArray(np.empty(shape, dtype=\u001b[38;5;28mobject\u001b[39m), coords=[data_da.coords[\u001b[33m\"\u001b[39m\u001b[33mimg_idx\u001b[39m\u001b[33m\"\u001b[39m], data_da.coords[\u001b[33m\"\u001b[39m\u001b[33mpos_class\u001b[39m\u001b[33m\"\u001b[39m]]) \u001b[38;5;66;03m# shape (n_imgs, n_pos_classes)\u001b[39;00m\n\u001b[32m      4\u001b[39m \u001b[38;5;28;01mfor\u001b[39;00m img_idx \u001b[38;5;129;01min\u001b[39;00m table.coords[\u001b[33m\"\u001b[39m\u001b[33mimg_idx\u001b[39m\u001b[33m\"\u001b[39m].values:\n\u001b[32m----> \u001b[39m\u001b[32m5\u001b[39m     significant_classes_gt = \u001b[43mget_significant_classes\u001b[49m(GTS_PATH / (image_UIDs[img_idx] + \u001b[33m\"\u001b[39m\u001b[33m.png\u001b[39m\u001b[33m\"\u001b[39m), \u001b[32m224\u001b[39m, CLASS_MAP)\n\u001b[32m      6\u001b[39m     \u001b[38;5;28;01mfor\u001b[39;00m c \u001b[38;5;129;01min\u001b[39;00m significant_classes_gt:\n\u001b[32m      7\u001b[39m         \u001b[38;5;28;01mif\u001b[39;00m table.loc[img_idx, c] == \u001b[38;5;28;01mNone\u001b[39;00m:\n",
      "\u001b[31mNameError\u001b[39m: name 'get_significant_classes' is not defined"
     ]
    }
   ],
   "source": [
    "shape = len(data_da.coords[\"img_idx\"]), len(data_da.coords[\"pos_class\"])\n",
    "table = xr.DataArray(np.empty(shape, dtype=object), coords=[data_da.coords[\"img_idx\"], data_da.coords[\"pos_class\"]]) # shape (n_imgs, n_pos_classes)\n",
    "\n",
    "for img_idx in table.coords[\"img_idx\"].values:\n",
    "    significant_classes_gt = get_significant_classes(GTS_PATH / (image_UIDs[img_idx] + \".png\"), 224, CLASS_MAP)\n",
    "    for c in significant_classes_gt:\n",
    "        if table.loc[img_idx, c] == None:\n",
    "            table.loc[img_idx, c] = 1\n",
    "class_counts = table.sum(\"img_idx\")"
   ]
  },
  {
   "cell_type": "code",
   "execution_count": null,
   "metadata": {},
   "outputs": [
    {
     "name": "stderr",
     "output_type": "stream",
     "text": [
      "/opt/conda/lib/python3.11/site-packages/numpy/lib/_nanfunctions_impl.py:2019: RuntimeWarning: Degrees of freedom <= 0 for slice.\n",
      "  var = nanvar(a, axis=axis, dtype=dtype, out=out, ddof=ddof,\n"
     ]
    },
    {
     "data": {
      "image/png": "[encoded data removed]",
      "text/plain": [
       "<Figure size 640x480 with 1 Axes>"
      ]
     },
     "metadata": {},
     "output_type": "display_data"
    }
   ],
   "source": [
    "mean = data_da.sel(metric=\"pred\").astype(float).mean([\"img_idx\", \"var\"])\n",
    "std = data_da.sel(metric=\"pred\").astype(float).std([\"img_idx\", \"var\"])\n",
    "plt.bar([f\"{CLASSES[i]}, # {int(class_counts[i])}\" for i in mean.coords[\"pos_class\"].values], mean, yerr=std, capsize=5, alpha=0.9)\n",
    "plt.tick_params(axis='x', which='both', top=True)\n",
    "top_ax = plt.gca().secondary_xaxis('top')\n",
    "top_ax.set_xticks(range(len(mean.coords[\"pos_class\"])))\n",
    "top_ax.set_xticklabels(mean.coords[\"pos_class\"].values)\n",
    "plt.ylim(bottom=0)\n",
    "plt.xticks(rotation=90)\n",
    "plt.show()"
   ]
  }
 ],
 "metadata": {
  "colab": {
   "provenance": [
    {
     "file_id": "/v2/external/notebooks/empty.ipynb",
     "timestamp": 1742717556086
    }
   ]
  },
  "kernelspec": {
   "display_name": "base",
   "language": "python",
   "name": "python3"
  },
  "language_info": {
   "codemirror_mode": {
    "name": "ipython",
    "version": 3
   },
   "file_extension": ".py",
   "mimetype": "text/x-python",
   "name": "python",
   "nbconvert_exporter": "python",
   "pygments_lexer": "ipython3",
   "version": "3.11.13"
  }
 },
 "nbformat": 4,
 "nbformat_minor": 0
}
