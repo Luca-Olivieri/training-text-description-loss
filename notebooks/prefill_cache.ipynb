{
 "cells": [
  {
   "cell_type": "code",
   "execution_count": 1,
   "id": "bc7a6435",
   "metadata": {},
   "outputs": [],
   "source": [
    "from core.cache import Cache, MaskTextCache, BatchedPercentilePolicy\n",
    "from torchmetrics.classification import BinaryJaccardIndex\n",
    "from path import Path"
   ]
  },
  {
   "cell_type": "code",
   "execution_count": 2,
   "id": "6a1ff121",
   "metadata": {},
   "outputs": [],
   "source": [
    "cache = Cache(storage_device=\"cpu\", memory_device=\"cuda\")\n",
    "update_policy = BatchedPercentilePolicy(\n",
    "    metric=BinaryJaccardIndex().to('cuda'),\n",
    "    percentile=0.6\n",
    ")\n",
    "mask_text_cache = MaskTextCache(cache, update_policy)"
   ]
  },
  {
   "cell_type": "code",
   "execution_count": 5,
   "id": "01b2c7f0",
   "metadata": {},
   "outputs": [
    {
     "name": "stdout",
     "output_type": "stream",
     "text": [
      "Loading 4615 items into a new cache with storage='cpu'...\n",
      "Cache loaded successfully.\n"
     ]
    }
   ],
   "source": [
    "mask_text_cache.cache = Cache.load(\n",
    "    directory_path=Path(\"/home/olivieri/exp/data/torch_weights/cache/phase_3_prefill_cache\"),\n",
    "    storage_device=\"cpu\",\n",
    "    memory_device=\"cuda\"\n",
    ")"
   ]
  },
  {
   "cell_type": "code",
   "execution_count": 39,
   "id": "abc49416",
   "metadata": {},
   "outputs": [
    {
     "data": {
      "text/plain": [
       "ImageTextCache(storage='cpu', memory='cuda', size=4615), usage={'cpu': 221.06382369995117, 'vram': 0.0, 'disk': 0.0}"
      ]
     },
     "execution_count": 39,
     "metadata": {},
     "output_type": "execute_result"
    }
   ],
   "source": [
    "mask_text_cache"
   ]
  },
  {
   "cell_type": "code",
   "execution_count": 32,
   "id": "29547905",
   "metadata": {},
   "outputs": [
    {
     "data": {
      "text/plain": [
       "(tensor([[[False, False, False,  ..., False, False, False],\n",
       "          [False, False, False,  ..., False, False, False],\n",
       "          [False, False, False,  ..., False, False, False],\n",
       "          ...,\n",
       "          [False, False, False,  ..., False, False, False],\n",
       "          [False, False, False,  ..., False, False, False],\n",
       "          [False, False, False,  ..., False, False, False]]], device='cuda:0'),\n",
       " '...')"
      ]
     },
     "execution_count": 32,
     "metadata": {},
     "output_type": "execute_result"
    }
   ],
   "source": [
    "mask_text_cache.cache['2008_003252-8']"
   ]
  }
 ],
 "metadata": {
  "kernelspec": {
   "display_name": "base",
   "language": "python",
   "name": "python3"
  },
  "language_info": {
   "codemirror_mode": {
    "name": "ipython",
    "version": 3
   },
   "file_extension": ".py",
   "mimetype": "text/x-python",
   "name": "python",
   "nbconvert_exporter": "python",
   "pygments_lexer": "ipython3",
   "version": "3.11.13"
  }
 },
 "nbformat": 4,
 "nbformat_minor": 5
}
