{
 "cells": [
  {
   "cell_type": "code",
   "execution_count": 1,
   "id": "f3ea2c06",
   "metadata": {},
   "outputs": [],
   "source": [
    "import _nb_utils\n",
    "%load_ext autoreload\n",
    "%autoreload 2"
   ]
  },
  {
   "cell_type": "code",
   "execution_count": 2,
   "id": "eeee88ae",
   "metadata": {},
   "outputs": [],
   "source": [
    "from config import CONFIG\n",
    "from prompter import *\n",
    "from data import *\n",
    "from utils import *\n",
    "from model import GenParams, GoogleAIStudioMLLM, OllamaMLLM\n",
    "from viz import display_prompt"
   ]
  },
  {
   "cell_type": "code",
   "execution_count": 3,
   "id": "b7df73ba",
   "metadata": {},
   "outputs": [],
   "source": [
    "model_name = \"gemma3:12b-it-qat\"\n",
    "\n",
    "vlm = OllamaMLLM(model_name)"
   ]
  },
  {
   "cell_type": "code",
   "execution_count": 4,
   "id": "bbb23e29",
   "metadata": {},
   "outputs": [],
   "source": [
    "by_model = \"LRASPP_MobileNet_V3\""
   ]
  },
  {
   "cell_type": "code",
   "execution_count": 5,
   "id": "4350f581",
   "metadata": {},
   "outputs": [],
   "source": [
    "gen_params = GenParams(\n",
    "    seed=CONFIG[\"seed\"],\n",
    "    temperature=0.1\n",
    ")"
   ]
  },
  {
   "cell_type": "code",
   "execution_count": 6,
   "id": "32624063",
   "metadata": {},
   "outputs": [],
   "source": [
    "prompt_blueprint={\n",
    "        \"context\": \"default\",\n",
    "        \"color_map\": \"default\",\n",
    "        \"input_format\": \"sep_ovr_original\",\n",
    "        \"task\": \"default\",\n",
    "        \"output_format\": \"default\",\n",
    "        \"support_set_intro\": \"default\",\n",
    "        \"support_set_item\": \"default\",\n",
    "        \"query\": \"default\",\n",
    "}"
   ]
  },
  {
   "cell_type": "code",
   "execution_count": 7,
   "id": "24b76cec",
   "metadata": {},
   "outputs": [],
   "source": [
    "fast_prompt_builder = FastPromptBuilder(\n",
    "    seed=CONFIG[\"seed\"],\n",
    "    prompt_blueprint=prompt_blueprint,\n",
    "    by_model=by_model,\n",
    "    alpha=0.6,\n",
    "    class_map=CLASS_MAP,\n",
    "    color_map=COLOR_MAP_DICT,\n",
    "    image_size=224,\n",
    "    sup_set_img_idxs=[16],\n",
    "    str_formats=None,\n",
    "    prs_mask_paths=get_mask_prs_path(by_model=by_model),\n",
    "    jsonl_save_path=None\n",
    ")"
   ]
  },
  {
   "cell_type": "code",
   "execution_count": 8,
   "id": "b7cccc77",
   "metadata": {},
   "outputs": [
    {
     "data": {
      "text/plain": [
       "79"
      ]
     },
     "execution_count": 8,
     "metadata": {},
     "output_type": "execute_result"
    }
   ],
   "source": [
    "epoch_idxs = [x for x in list(range(80)) if x not in fast_prompt_builder.sup_set_img_idxs]\n",
    "len(epoch_idxs)"
   ]
  },
  {
   "cell_type": "code",
   "execution_count": 9,
   "id": "c1a2ac95",
   "metadata": {},
   "outputs": [
    {
     "data": {
      "text/plain": [
       "79"
      ]
     },
     "execution_count": 9,
     "metadata": {},
     "output_type": "execute_result"
    }
   ],
   "source": [
    "cs_inference_prompts = fast_prompt_builder.build_cs_inference_prompts(epoch_idxs)\n",
    "len(cs_inference_prompts)"
   ]
  },
  {
   "cell_type": "code",
   "execution_count": 14,
   "id": "f8e3e5a5",
   "metadata": {},
   "outputs": [],
   "source": [
    "# display_prompt(cs_inference_prompts[0][15])"
   ]
  },
  {
   "cell_type": "code",
   "execution_count": 15,
   "id": "faab410b",
   "metadata": {},
   "outputs": [
    {
     "name": "stdout",
     "output_type": "stream",
     "text": [
      "/home/olivieri/exp/my_data/by_model/LRASPP_MobileNet_V3/class-splitted/answer_prs/gemma3:12b-it-qat/after_fast_prompter/SepMasks_Ovr_1fs_2.jsonl\n",
      "/home/olivieri/exp/my_data/by_model/LRASPP_MobileNet_V3/class-splitted/eval_prs/gemma3:12b-it-qat/after_fast_prompter/SepMasks_Ovr_1fs_2.jsonl\n"
     ]
    }
   ],
   "source": [
    "exp_name = \"after_fast_prompter\"\n",
    "\n",
    "answer_path = get_answer_prs_root_path(\"LRASPP_MobileNet_V3\", \"class-splitted\") / model_name / exp_name / \"SepMasks_Ovr_1fs_2.jsonl\"\n",
    "eval_path = get_eval_prs_root_path(\"LRASPP_MobileNet_V3\", \"class-splitted\") / model_name / exp_name / \"SepMasks_Ovr_1fs_2.jsonl\"\n",
    "print(answer_path)\n",
    "print(eval_path)"
   ]
  },
  {
   "cell_type": "code",
   "execution_count": 16,
   "id": "a3472259",
   "metadata": {},
   "outputs": [],
   "source": [
    "append_many_to_jsonl(answer_path, [{\"state\": fast_prompt_builder.get_state()} | {\"vlm\": f\"{vlm.__class__.__name__}:{vlm.model}\"}]) "
   ]
  },
  {
   "cell_type": "code",
   "execution_count": 17,
   "id": "964ce686",
   "metadata": {},
   "outputs": [
    {
     "name": "stderr",
     "output_type": "stream",
     "text": [
      "100%|\u001b[38;2;103;173;91m██████████\u001b[0m| 79/79 [26:09<00:00, 19.86s/item]\n"
     ]
    }
   ],
   "source": [
    "epoch_answer_list = []\n",
    "\n",
    "epoch_answer_list += await vlm.predict_many_class_splitted(\n",
    "    cs_inference_prompts,\n",
    "    epoch_idxs,\n",
    "    gen_params=gen_params,\n",
    "    jsonl_save_path=answer_path,\n",
    "    only_text=True,\n",
    "    splits_in_parallel=False,\n",
    "    batch_size=None,\n",
    ")"
   ]
  }
 ],
 "metadata": {
  "kernelspec": {
   "display_name": "base",
   "language": "python",
   "name": "python3"
  },
  "language_info": {
   "codemirror_mode": {
    "name": "ipython",
    "version": 3
   },
   "file_extension": ".py",
   "mimetype": "text/x-python",
   "name": "python",
   "nbconvert_exporter": "python",
   "pygments_lexer": "ipython3",
   "version": "3.11.13"
  }
 },
 "nbformat": 4,
 "nbformat_minor": 5
}
